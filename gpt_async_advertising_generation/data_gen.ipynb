{
 "cells": [
  {
   "cell_type": "code",
   "execution_count": 1,
   "metadata": {},
   "outputs": [],
   "source": [
    "import json\n",
    "import pandas as pd\n",
    "import numpy as np\n",
    "from tqdm import tqdm\n",
    "\n",
    "from gpt import AsyncYandexGpt, gen_fake_add"
   ]
  },
  {
   "cell_type": "code",
   "execution_count": 12,
   "metadata": {},
   "outputs": [],
   "source": [
    "config = {}\n",
    "with open('config.json') as f:\n",
    "    config = json.load(f)\n",
    "\n",
    "FOLDER_ID = config['FOLDER_ID']\n",
    "API_KEY = config['API_KEY']\n",
    "URI = f'gpt://{FOLDER_ID}/yandexgpt/latest'"
   ]
  },
  {
   "cell_type": "code",
   "execution_count": 13,
   "metadata": {},
   "outputs": [],
   "source": [
    "gpt = AsyncYandexGpt(API_KEY, URI)"
   ]
  },
  {
   "cell_type": "code",
   "execution_count": 15,
   "metadata": {},
   "outputs": [],
   "source": [
    "sample_text = \"\"\"Москвичи чаще стали выбирать беспородных кошек, а среди породистых по-прежнему популярны шотландская вислоухая, британская короткошерстная и мейн-кун, говорится в сообщении на официальном сайте мэра и правительства Москвы.\n",
    "Отмечается, что у владельцев собак популярны миниатюрные породы – например, йоркширские терьеры, чихуахуа и джек-рассел-терьеры.\n",
    "Кроме того, у москвичей живут кролики, шиншиллы, рептилии и другие экзотические животные – их более 11 тысяч.\"\"\""
   ]
  },
  {
   "cell_type": "code",
   "execution_count": null,
   "metadata": {},
   "outputs": [],
   "source": [
    "for i in range(3):\n",
    "    res = gen_fake_add(gpt, sample_text)\n",
    "    print(f'Sample {i+1}')\n",
    "    print(res)\n",
    "    print()"
   ]
  },
  {
   "cell_type": "markdown",
   "metadata": {},
   "source": [
    "## Генерация датасета"
   ]
  },
  {
   "cell_type": "code",
   "execution_count": 3,
   "metadata": {},
   "outputs": [
    {
     "name": "stderr",
     "output_type": "stream",
     "text": [
      "/var/folders/c1/6p_qy_fs0jj5z6y2p5nfx08w0000gn/T/ipykernel_36889/989240731.py:1: DtypeWarning: Columns (3) have mixed types. Specify dtype option on import or set low_memory=False.\n",
      "  lenta_ru = pd.read_csv(\"../data/lenta-ru-news.csv\")\n"
     ]
    }
   ],
   "source": [
    "lenta_ru = pd.read_csv(\"../data/lenta-ru-news.csv\")"
   ]
  },
  {
   "cell_type": "code",
   "execution_count": 4,
   "metadata": {},
   "outputs": [
    {
     "data": {
      "text/plain": [
       "[('69-я параллель', 1268),\n",
       " ('Библиотека', 65),\n",
       " ('Бизнес', 7399),\n",
       " ('Бывший СССР', 53402),\n",
       " ('Дом', 21734),\n",
       " ('Из жизни', 27605),\n",
       " ('Интернет и СМИ', 44663),\n",
       " ('Крым', 666),\n",
       " ('Культпросвет ', 340),\n",
       " ('Культура', 53797),\n",
       " ('Легпром', 114),\n",
       " ('МедНовости', 1),\n",
       " ('Мир', 136621),\n",
       " ('Наука и техника', 53136),\n",
       " ('Оружие', 3),\n",
       " ('Путешествия', 6408),\n",
       " ('Россия', 160445),\n",
       " ('Силовые структуры', 19596),\n",
       " ('Сочи', 1),\n",
       " ('Спорт', 64413),\n",
       " ('Ценности', 7766),\n",
       " ('ЧМ-2014', 2),\n",
       " ('Экономика', 79528)]"
      ]
     },
     "execution_count": 4,
     "metadata": {},
     "output_type": "execute_result"
    }
   ],
   "source": [
    "list(zip(*np.unique(lenta_ru[\"topic\"][lenta_ru[\"topic\"].notna()].values, return_counts=True)))"
   ]
  },
  {
   "cell_type": "code",
   "execution_count": 5,
   "metadata": {},
   "outputs": [],
   "source": [
    "np.random.seed(42)\n",
    "\n",
    "topics_for_gen = [\"Дом\", \"Из жизни\", \"Интернет и СМИ\", \"Наука и техника\", \"Путешествия\", \"Спорт\"]\n",
    "gen_numbers = [333, 333, 333, 333, 334, 334]\n",
    "indexes_for_gen = []\n",
    "for topic, size in zip(topics_for_gen, gen_numbers):\n",
    "    indexes = lenta_ru[lenta_ru[\"topic\"] == topic][\"text\"].index\n",
    "    indexes_for_gen += list(np.random.choice(indexes, size=size, replace=False))\n"
   ]
  },
  {
   "cell_type": "code",
   "execution_count": 10,
   "metadata": {},
   "outputs": [],
   "source": [
    "data_text = lenta_ru.iloc[indexes_for_gen][[\"text\"]].copy()\n",
    "data_text[\"generated_text\"] = None"
   ]
  },
  {
   "cell_type": "code",
   "execution_count": 10,
   "metadata": {},
   "outputs": [],
   "source": [
    "def generate(row):\n",
    "    return gen_fake_add(gpt, row[\"text\"])"
   ]
  },
  {
   "cell_type": "code",
   "execution_count": 26,
   "metadata": {},
   "outputs": [],
   "source": [
    "batch_size = 10"
   ]
  },
  {
   "cell_type": "code",
   "execution_count": 119,
   "metadata": {},
   "outputs": [
    {
     "name": "stderr",
     "output_type": "stream",
     "text": [
      "100%|██████████| 6/6 [05:10<00:00, 51.79s/it]\n"
     ]
    }
   ],
   "source": [
    "for i in tqdm(range(194, 200)):\n",
    "    left = i * batch_size\n",
    "    right = (i + 1) * batch_size\n",
    "    data_text.iloc[left:right, 1] = data_text.iloc[left:right].apply(generate, axis=1)"
   ]
  },
  {
   "cell_type": "code",
   "execution_count": 124,
   "metadata": {},
   "outputs": [
    {
     "name": "stdout",
     "output_type": "stream",
     "text": [
      "627 1373\n"
     ]
    }
   ],
   "source": [
    "check_na = data_text.iloc[0 * batch_size:200 * batch_size][\"generated_text\"]\n",
    "print(check_na.isna().sum(), check_na.notna().sum())"
   ]
  },
  {
   "cell_type": "markdown",
   "metadata": {},
   "source": [
    "## Сохранение датасета"
   ]
  },
  {
   "cell_type": "code",
   "execution_count": 18,
   "metadata": {},
   "outputs": [],
   "source": [
    "from dataclasses import make_dataclass\n",
    "\n",
    "Text = make_dataclass(\"Text\", [(\"title\", str), (\"text\", str), (\"label\", int), (\"url\", str)])"
   ]
  },
  {
   "cell_type": "code",
   "execution_count": 126,
   "metadata": {},
   "outputs": [],
   "source": [
    "texts = []\n",
    "for index, row in data_text.iterrows():\n",
    "    texts.append(Text(np.nan, row[\"generated_text\"], 1, \"Nadia\"))"
   ]
  },
  {
   "cell_type": "code",
   "execution_count": 127,
   "metadata": {},
   "outputs": [],
   "source": [
    "data_to_save = pd.DataFrame(texts, index=data_text.index)"
   ]
  },
  {
   "cell_type": "code",
   "execution_count": 128,
   "metadata": {},
   "outputs": [],
   "source": [
    "data_to_save.to_csv(\"generated_data_by_news_p1\")"
   ]
  },
  {
   "cell_type": "code",
   "execution_count": 129,
   "metadata": {},
   "outputs": [
    {
     "data": {
      "text/plain": [
       "627"
      ]
     },
     "execution_count": 129,
     "metadata": {},
     "output_type": "execute_result"
    }
   ],
   "source": [
    "data_text[\"generated_text\"].isna().sum()"
   ]
  },
  {
   "cell_type": "markdown",
   "metadata": {},
   "source": [
    "## Добавим немного к датасету"
   ]
  },
  {
   "cell_type": "code",
   "execution_count": 56,
   "metadata": {},
   "outputs": [],
   "source": [
    "def generate_indexes(topics_for_gen, already_in_use: list[int], gen_numbers=[300, 300, 300, 300, 300, 300], seed=500):\n",
    "    np.random.seed(seed)\n",
    "\n",
    "    new_indexes_for_gen = []\n",
    "    for topic, size in zip(topics_for_gen, gen_numbers):\n",
    "        indexes = lenta_ru[lenta_ru[\"topic\"] == topic][\"text\"].index\n",
    "        indexes = [idx for idx in indexes if idx not in already_in_use]\n",
    "        new_indexes_for_gen += list(np.random.choice(indexes, size=size, replace=False))\n",
    "\n",
    "    return new_indexes_for_gen\n"
   ]
  },
  {
   "cell_type": "code",
   "execution_count": 57,
   "metadata": {},
   "outputs": [],
   "source": [
    "new_indexes_for_gen = generate_indexes(topics_for_gen, indexes_for_gen)\n",
    "batch_size = 10\n",
    "new_data_text = lenta_ru.iloc[new_indexes_for_gen][[\"text\"]].copy()\n",
    "new_data_text[\"generated_text\"] = None"
   ]
  },
  {
   "cell_type": "code",
   "execution_count": 21,
   "metadata": {},
   "outputs": [
    {
     "data": {
      "text/html": [
       "<div>\n",
       "<style scoped>\n",
       "    .dataframe tbody tr th:only-of-type {\n",
       "        vertical-align: middle;\n",
       "    }\n",
       "\n",
       "    .dataframe tbody tr th {\n",
       "        vertical-align: top;\n",
       "    }\n",
       "\n",
       "    .dataframe thead th {\n",
       "        text-align: right;\n",
       "    }\n",
       "</style>\n",
       "<table border=\"1\" class=\"dataframe\">\n",
       "  <thead>\n",
       "    <tr style=\"text-align: right;\">\n",
       "      <th></th>\n",
       "      <th>text</th>\n",
       "      <th>generated_text</th>\n",
       "    </tr>\n",
       "  </thead>\n",
       "  <tbody>\n",
       "    <tr>\n",
       "      <th>637112</th>\n",
       "      <td>Американский актер Джонни Депп снизил стоимост...</td>\n",
       "      <td>None</td>\n",
       "    </tr>\n",
       "    <tr>\n",
       "      <th>406102</th>\n",
       "      <td>На 2012 год девелоперами анонсирован ввод в Мо...</td>\n",
       "      <td>None</td>\n",
       "    </tr>\n",
       "    <tr>\n",
       "      <th>732874</th>\n",
       "      <td>80 процентов жилых комплексов в России строятс...</td>\n",
       "      <td>None</td>\n",
       "    </tr>\n",
       "    <tr>\n",
       "      <th>603635</th>\n",
       "      <td>Новых квартир стоимостью пять и менее миллионо...</td>\n",
       "      <td>None</td>\n",
       "    </tr>\n",
       "    <tr>\n",
       "      <th>251167</th>\n",
       "      <td>Казахстанская компания \"Астана-проект\" разрабо...</td>\n",
       "      <td>None</td>\n",
       "    </tr>\n",
       "    <tr>\n",
       "      <th>...</th>\n",
       "      <td>...</td>\n",
       "      <td>...</td>\n",
       "    </tr>\n",
       "    <tr>\n",
       "      <th>193729</th>\n",
       "      <td>Вторая ракетка мира россиянка Мария Шарапова в...</td>\n",
       "      <td>None</td>\n",
       "    </tr>\n",
       "    <tr>\n",
       "      <th>538872</th>\n",
       "      <td>Министр спорта России Виталий Мутко присвоил с...</td>\n",
       "      <td>None</td>\n",
       "    </tr>\n",
       "    <tr>\n",
       "      <th>641529</th>\n",
       "      <td>Российская теннисистка Анастасия Павлюченкова ...</td>\n",
       "      <td>None</td>\n",
       "    </tr>\n",
       "    <tr>\n",
       "      <th>308409</th>\n",
       "      <td>На итоговом теннисном турнире года, стартовавш...</td>\n",
       "      <td>None</td>\n",
       "    </tr>\n",
       "    <tr>\n",
       "      <th>88249</th>\n",
       "      <td>В ближайшие четверг и пятницу в Цюрихе пройду...</td>\n",
       "      <td>None</td>\n",
       "    </tr>\n",
       "  </tbody>\n",
       "</table>\n",
       "<p>1800 rows × 2 columns</p>\n",
       "</div>"
      ],
      "text/plain": [
       "                                                     text generated_text\n",
       "637112  Американский актер Джонни Депп снизил стоимост...           None\n",
       "406102  На 2012 год девелоперами анонсирован ввод в Мо...           None\n",
       "732874  80 процентов жилых комплексов в России строятс...           None\n",
       "603635  Новых квартир стоимостью пять и менее миллионо...           None\n",
       "251167  Казахстанская компания \"Астана-проект\" разрабо...           None\n",
       "...                                                   ...            ...\n",
       "193729  Вторая ракетка мира россиянка Мария Шарапова в...           None\n",
       "538872  Министр спорта России Виталий Мутко присвоил с...           None\n",
       "641529  Российская теннисистка Анастасия Павлюченкова ...           None\n",
       "308409  На итоговом теннисном турнире года, стартовавш...           None\n",
       "88249    В ближайшие четверг и пятницу в Цюрихе пройду...           None\n",
       "\n",
       "[1800 rows x 2 columns]"
      ]
     },
     "execution_count": 21,
     "metadata": {},
     "output_type": "execute_result"
    }
   ],
   "source": [
    "new_data_text"
   ]
  },
  {
   "cell_type": "code",
   "execution_count": null,
   "metadata": {},
   "outputs": [],
   "source": [
    "for i in tqdm(range(91, 120)):\n",
    "    left = i * batch_size\n",
    "    right = (i + 1) * batch_size\n",
    "    new_data_text.iloc[left:right, 1] = new_data_text.iloc[left:right].apply(generate, axis=1)"
   ]
  },
  {
   "cell_type": "code",
   "execution_count": 121,
   "metadata": {},
   "outputs": [
    {
     "name": "stdout",
     "output_type": "stream",
     "text": [
      "71 129\n"
     ]
    }
   ],
   "source": [
    "check_na = new_data_text.iloc[77 * batch_size:97 * batch_size][\"generated_text\"]\n",
    "print(check_na.isna().sum(), check_na.notna().sum())"
   ]
  },
  {
   "cell_type": "code",
   "execution_count": 122,
   "metadata": {},
   "outputs": [],
   "source": [
    "texts = []\n",
    "for index, row in new_data_text.iterrows():\n",
    "    texts.append(Text(np.nan, row[\"generated_text\"], 1, \"Nadia\"))\n",
    "data_to_save = pd.DataFrame(texts, index=new_data_text.index)"
   ]
  },
  {
   "cell_type": "code",
   "execution_count": 123,
   "metadata": {},
   "outputs": [],
   "source": [
    "merge = pd.read_csv(\"generated_data_by_news_p2_1\", index_col=0)"
   ]
  },
  {
   "cell_type": "code",
   "execution_count": 126,
   "metadata": {},
   "outputs": [],
   "source": [
    "data_to_save.iloc[0 * batch_size:77 * batch_size] = merge.iloc[0 * batch_size:77 * batch_size]"
   ]
  },
  {
   "cell_type": "code",
   "execution_count": 128,
   "metadata": {},
   "outputs": [
    {
     "name": "stdout",
     "output_type": "stream",
     "text": [
      "title    970\n",
      "text     324\n",
      "label      0\n",
      "url        0\n",
      "dtype: int64 title      0\n",
      "text     646\n",
      "label    970\n",
      "url      970\n",
      "dtype: int64\n"
     ]
    }
   ],
   "source": [
    "check_na = data_to_save.iloc[0 * batch_size:97 * batch_size]\n",
    "print(check_na.isna().sum(), check_na.notna().sum())"
   ]
  },
  {
   "cell_type": "code",
   "execution_count": 129,
   "metadata": {},
   "outputs": [],
   "source": [
    "data_to_save.to_csv(\"generated_data_by_news_p2_2\")"
   ]
  },
  {
   "cell_type": "markdown",
   "metadata": {},
   "source": [
    "## Merge 2 files"
   ]
  },
  {
   "cell_type": "code",
   "execution_count": 130,
   "metadata": {},
   "outputs": [],
   "source": [
    "data1 = pd.read_csv(\"generated_data_by_news_p1\", index_col=0)\n",
    "data2 = pd.read_csv(\"generated_data_by_news_p2\", index_col=0)"
   ]
  },
  {
   "cell_type": "code",
   "execution_count": 135,
   "metadata": {},
   "outputs": [],
   "source": [
    "all_data = pd.concat([data1, data2])"
   ]
  },
  {
   "cell_type": "code",
   "execution_count": 138,
   "metadata": {},
   "outputs": [
    {
     "data": {
      "text/plain": [
       "2019"
      ]
     },
     "execution_count": 138,
     "metadata": {},
     "output_type": "execute_result"
    }
   ],
   "source": [
    "all_data[\"text\"].notna().sum()"
   ]
  },
  {
   "cell_type": "code",
   "execution_count": 140,
   "metadata": {},
   "outputs": [],
   "source": [
    "data_to_save.to_csv(\"generated_data_by_news.csv\", index=False)"
   ]
  }
 ],
 "metadata": {
  "kernelspec": {
   "display_name": "nlp-course-v1",
   "language": "python",
   "name": "python3"
  },
  "language_info": {
   "codemirror_mode": {
    "name": "ipython",
    "version": 3
   },
   "file_extension": ".py",
   "mimetype": "text/x-python",
   "name": "python",
   "nbconvert_exporter": "python",
   "pygments_lexer": "ipython3",
   "version": "3.11.5"
  }
 },
 "nbformat": 4,
 "nbformat_minor": 2
}
