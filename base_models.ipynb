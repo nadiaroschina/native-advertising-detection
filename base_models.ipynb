{
 "cells": [
  {
   "metadata": {
    "ExecuteTime": {
     "end_time": "2024-04-11T18:04:38.322146Z",
     "start_time": "2024-04-11T18:04:34.851849Z"
    }
   },
   "cell_type": "code",
   "source": [
    "import pandas as pd\n",
    "from sklearn.model_selection import train_test_split\n",
    "\n",
    "df = pd.read_csv('data/meduza_dataset_big.csv')"
   ],
   "id": "3366ab22e22ea4cf",
   "outputs": [],
   "execution_count": 33
  },
  {
   "metadata": {
    "ExecuteTime": {
     "end_time": "2024-04-11T18:04:38.359454Z",
     "start_time": "2024-04-11T18:04:38.323873Z"
    }
   },
   "cell_type": "code",
   "source": [
    "tags = list(set(df[\"tag\"].values))\n",
    "lst = []\n",
    "for tag in tags:\n",
    "    lst.append(df[df[\"tag\"] == tag].iloc[:1000])\n",
    "df = pd.concat(lst)\n",
    "\n",
    "X = df[\"text\"]\n",
    "y = df[\"tag\"] == 'партнерский материал'\n",
    "\n",
    "X_train, X_test, y_train, y_test = train_test_split(X, y, test_size=0.25, random_state=42)"
   ],
   "id": "initial_id",
   "outputs": [],
   "execution_count": 34
  },
  {
   "metadata": {
    "ExecuteTime": {
     "end_time": "2024-04-11T18:04:38.364310Z",
     "start_time": "2024-04-11T18:04:38.360532Z"
    }
   },
   "cell_type": "code",
   "source": [
    "from sklearn.feature_extraction.text import CountVectorizer, TfidfVectorizer\n",
    "from sklearn.preprocessing import MaxAbsScaler\n",
    "from sklearn.linear_model import LogisticRegression\n",
    "from sklearn.ensemble import RandomForestClassifier\n",
    "from sklearn.svm import SVC\n",
    "from catboost import CatBoostClassifier\n",
    "from sklearn.metrics import classification_report\n",
    "from data.data_preprocessor import DataPreprocessor\n",
    "import matplotlib.pyplot as plt\n",
    "import umap.umap_ as umap"
   ],
   "id": "4fb8e61f8c0ab76e",
   "outputs": [],
   "execution_count": 35
  },
  {
   "metadata": {
    "ExecuteTime": {
     "end_time": "2024-04-11T18:04:38.370187Z",
     "start_time": "2024-04-11T18:04:38.366758Z"
    }
   },
   "cell_type": "code",
   "source": [
    "def vectorize(vectorizer, X_train, X_test):\n",
    "    preprocessor = DataPreprocessor()\n",
    "    X_train = preprocessor.fit_transform(X_train)\n",
    "    X_test = preprocessor.fit_transform(X_test)\n",
    "    vectorizer.fit(X_train)\n",
    "\n",
    "    bow = vectorizer.transform(X_train)\n",
    "    bow_test = vectorizer.transform(X_test)\n",
    "\n",
    "    print(bow.shape)\n",
    "\n",
    "    scaler = MaxAbsScaler()\n",
    "    reducer = umap.UMAP(n_neighbors=15, n_components=2)\n",
    "    embedding = reducer.fit_transform(bow)\n",
    "\n",
    "    plt.scatter(embedding[:, 0], embedding[:, 1], c=y_train, cmap=\"bwr\")\n",
    "    plt.title('UMAP Projection of Random Data')\n",
    "    plt.xlabel('UMAP Feature 1')\n",
    "    plt.ylabel('UMAP Feature 2')\n",
    "    plt.legend()\n",
    "    plt.show()\n",
    "    return {\"train\": scaler.fit_transform(bow),\n",
    "            \"test\": scaler.transform(bow_test)}\n",
    "\n",
    "\n",
    "def fit_predict(model, X_train, y_train, X_test, y_test):\n",
    "    model.fit(X_train, y_train)\n",
    "    pred = model.predict(X_test)\n",
    "    print(classification_report(y_test, pred))"
   ],
   "id": "ffc4e6a656d85ac3",
   "outputs": [],
   "execution_count": 36
  },
  {
   "metadata": {
    "jupyter": {
     "is_executing": true
    },
    "ExecuteTime": {
     "start_time": "2024-04-11T18:07:31.918421Z"
    }
   },
   "cell_type": "code",
   "source": [
    "vectorizers = {\n",
    "    \"CountVectorizer\": CountVectorizer(ngram_range=(1, 1), min_df=0.05, max_df=0.8),\n",
    "    \"TfidfVectorizer\": TfidfVectorizer(ngram_range=(1, 1), min_df=0.05, max_df=0.8),\n",
    "}\n",
    "\n",
    "vectorized_data = {vectorizer_name: vectorize(vectorizers[vectorizer_name], X_train, X_test) for vectorizer_name in\n",
    "                   vectorizers}\n"
   ],
   "id": "edf7efa77a6f5a63",
   "outputs": [
    {
     "name": "stderr",
     "output_type": "stream",
     "text": [
      "[nltk_data] Downloading package stopwords to /Library/Frameworks/Pytho\n",
      "[nltk_data]     n.framework/Versions/3.10/lib/nltk_data...\n",
      "[nltk_data]   Package stopwords is already up-to-date!\n"
     ]
    }
   ],
   "execution_count": null
  },
  {
   "metadata": {
    "jupyter": {
     "is_executing": true
    }
   },
   "cell_type": "code",
   "source": [
    "models = {\n",
    "    \"LogisticRegression\": LogisticRegression(max_iter=1000, class_weight='balanced', random_state=42),\n",
    "    \"RandomForestClassifier\": RandomForestClassifier(n_estimators=300, class_weight='balanced', random_state=42),\n",
    "    \"SVC\": SVC(kernel=\"linear\", class_weight='balanced', random_state=42),\n",
    "    \"CatBoostClassifier\": CatBoostClassifier(iterations=1000, random_state=42, silent=True),\n",
    "}\n",
    "\n",
    "for model_name in models:\n",
    "    for vectorizer_name in vectorizers:\n",
    "        print(f\"Model : {model_name} \\nVectorizer : {vectorizer_name}\\n\")\n",
    "\n",
    "        fit_predict(models[model_name], vectorized_data[vectorizer_name]['train'], y_train,\n",
    "                    vectorized_data[vectorizer_name]['test'], y_test)"
   ],
   "id": "f83b2f3b3f29d6",
   "outputs": [],
   "execution_count": null
  },
  {
   "metadata": {},
   "cell_type": "code",
   "outputs": [],
   "execution_count": null,
   "source": "",
   "id": "58c28547df2bd5f9"
  }
 ],
 "metadata": {
  "kernelspec": {
   "display_name": "Python 3",
   "language": "python",
   "name": "python3"
  },
  "language_info": {
   "codemirror_mode": {
    "name": "ipython",
    "version": 2
   },
   "file_extension": ".py",
   "mimetype": "text/x-python",
   "name": "python",
   "nbconvert_exporter": "python",
   "pygments_lexer": "ipython2",
   "version": "2.7.6"
  }
 },
 "nbformat": 4,
 "nbformat_minor": 5
}
