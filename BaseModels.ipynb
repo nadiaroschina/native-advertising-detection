{
 "cells": [
  {
   "cell_type": "code",
   "execution_count": null,
   "id": "initial_id",
   "metadata": {
    "collapsed": true
   },
   "outputs": [],
   "source": [
    "from sklearn.model_selection import train_test_split\n",
    "\n",
    "X = ...\n",
    "y = ...\n",
    "\n",
    "X_train, X_test, y_train, y_test = train_test_split(X, y, test_size=0.25, random_state=42)"
   ]
  },
  {
   "metadata": {},
   "cell_type": "code",
   "outputs": [],
   "execution_count": null,
   "source": [
    "from sklearn.feature_extraction.text import CountVectorizer, TfidfVectorizer\n",
    "from sklearn.preprocessing import MaxAbsScaler\n",
    "from sklearn.linear_model import LogisticRegression\n",
    "from sklearn.ensemble import RandomForestClassifier\n",
    "from catboost import CatBoostClassifier\n",
    "from sklearn.metrics import classification_report"
   ],
   "id": "4fb8e61f8c0ab76e"
  },
  {
   "metadata": {},
   "cell_type": "code",
   "outputs": [],
   "execution_count": null,
   "source": [
    "def fit_predict(vectorizer, model, X_train, y_train, X_test, y_test):\n",
    "    vectorizer.fit(X_train)\n",
    "\n",
    "    bow = vectorizer.transform(X_train)  # bow — bag of words (мешок слов)\n",
    "    bow_test = vectorizer.transform(X_test)\n",
    "\n",
    "    print(bow.shape)\n",
    "\n",
    "    scaler = MaxAbsScaler()\n",
    "    bow = scaler.fit_transform(bow)\n",
    "    bow_test = scaler.transform(bow_test)\n",
    "\n",
    "    model.fit(bow, y_train)\n",
    "    pred = model.predict(bow_test)\n",
    "\n",
    "    print(classification_report(y_test, pred))"
   ],
   "id": "ffc4e6a656d85ac3"
  },
  {
   "metadata": {},
   "cell_type": "code",
   "outputs": [],
   "execution_count": null,
   "source": [
    "models = {\n",
    "    \"LogisticRegression\": LogisticRegression(max_iter=1000, class_weight='balanced', random_state=42),\n",
    "    \"CatBoostClassifier\": CatBoostClassifier(iterations=1000, learning_rate=3e-4, random_state=42),\n",
    "    \"RandomForestClassifier\": RandomForestClassifier(n_estimators=300, class_weight='balanced', random_state=42),\n",
    "}\n",
    "\n",
    "vectorizers = {\n",
    "    \"CountVectorizer\": CountVectorizer(ngram_range=(1, 3), min_df=0.05, max_df=0.8),\n",
    "    \"TfidfVectorizer\": TfidfVectorizer(ngram_range=(1, 3), min_df=0.05, max_df=0.8),\n",
    "}\n",
    "\n",
    "for model_name, model in models:\n",
    "    for vectorizer_name, vectorizer in vectorizers:\n",
    "        print(f\"Model : {model_name} \\nVectorizer : {vectorizer_name}\\n\")\n",
    "        fit_predict(vectorizer, model, X_train, y_train, X_test, y_test)\n"
   ],
   "id": "edf7efa77a6f5a63"
  }
 ],
 "metadata": {
  "kernelspec": {
   "display_name": "Python 3",
   "language": "python",
   "name": "python3"
  },
  "language_info": {
   "codemirror_mode": {
    "name": "ipython",
    "version": 2
   },
   "file_extension": ".py",
   "mimetype": "text/x-python",
   "name": "python",
   "nbconvert_exporter": "python",
   "pygments_lexer": "ipython2",
   "version": "2.7.6"
  }
 },
 "nbformat": 4,
 "nbformat_minor": 5
}
