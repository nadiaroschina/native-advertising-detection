{
 "cells": [
  {
   "cell_type": "code",
   "execution_count": 196,
   "metadata": {},
   "outputs": [],
   "source": [
    "import pandas as pd\n",
    "import numpy as np\n",
    "\n",
    "import sys\n",
    "import glob\n",
    "from dataclasses import make_dataclass\n",
    "import re"
   ]
  },
  {
   "cell_type": "markdown",
   "metadata": {},
   "source": [
    "Препроцессинг для генерации Игоря"
   ]
  },
  {
   "cell_type": "code",
   "execution_count": 197,
   "metadata": {},
   "outputs": [],
   "source": [
    "Text = make_dataclass(\"Text\", [(\"title\", str), (\"text\", str), (\"label\", int), (\"url\", str)])"
   ]
  },
  {
   "cell_type": "code",
   "execution_count": 198,
   "metadata": {},
   "outputs": [],
   "source": [
    "def clean(text):\n",
    "    def include_del_words(line: str):\n",
    "        for word in del_words:\n",
    "            if word in line:\n",
    "                return True\n",
    "        return False\n",
    "    \n",
    "    del_words = [\"текст\", \"реклама\"]\n",
    "    lines = text.split(\"\\n\")\n",
    "    lines = [line for line in lines if not include_del_words(line)]\n",
    "    return text"
   ]
  },
  {
   "cell_type": "code",
   "execution_count": 199,
   "metadata": {},
   "outputs": [],
   "source": [
    "def find_title(text: str, file_name: str):\n",
    "    title = None\n",
    "    match = re.search(r\"\\*\\*(.*)\\*\\*\", text)\n",
    "    if match:\n",
    "        title = match.group(1).strip()\n",
    "\n",
    "    first_line, second_line = text.split(\"\\n\")[:2]\n",
    "    if second_line == \"\":\n",
    "        if title is None:\n",
    "            title = first_line\n",
    "        elif title not in first_line:\n",
    "            title = None\n",
    "            print(f'Несколько вариантов title. file: {file_name}', file=sys.stderr)\n",
    "    \n",
    "    if title and len(title) > 100:\n",
    "        print(f'Название слишком длинное. Странно. file: {file_name}', file=sys.stderr)\n",
    "        title = None\n",
    "\n",
    "    if title is None:\n",
    "        print(f'Название текста не найдено. file: {file_name}', file=sys.stderr)\n",
    "    return title\n",
    "\n",
    "def cut_title(text: str, title: str, file_name: str):\n",
    "    if title is None:\n",
    "        return text\n",
    "    lines = text.split(\"\\n\")\n",
    "    lines = [line for line in lines if line != \"\"]\n",
    "    if title in lines[0]:\n",
    "        return \"\\n\".join(lines[1:])\n",
    "    else:\n",
    "        print(f'Проблемы с обрезанием названия. file: {file_name}', file=sys.stderr)\n",
    "        return text\n",
    "\n",
    "def preprocess(text: str, file_name):\n",
    "    text = clean(text).strip(\"\\n\\t\\#\")\n",
    "    title = find_title(text, file_name)\n",
    "    text = cut_title(text, title, file_name)\n",
    "    return Text(title, text, 1, \"Игорь\")"
   ]
  },
  {
   "cell_type": "code",
   "execution_count": 200,
   "metadata": {},
   "outputs": [
    {
     "name": "stderr",
     "output_type": "stream",
     "text": [
      "Название слишком длинное. Странно. file: generated_data/text092.txt\n",
      "Название текста не найдено. file: generated_data/text092.txt\n"
     ]
    }
   ],
   "source": [
    "file_name = \"generated_data/text092.txt\"\n",
    "with open(file_name, 'r') as file:\n",
    "        file_text = file.read()\n",
    "        preprocess(file_text, file_name)"
   ]
  },
  {
   "cell_type": "code",
   "execution_count": 201,
   "metadata": {},
   "outputs": [
    {
     "name": "stdout",
     "output_type": "stream",
     "text": [
      "102\n"
     ]
    },
    {
     "name": "stderr",
     "output_type": "stream",
     "text": [
      "Название слишком длинное. Странно. file: generated_data/text092.txt\n",
      "Название текста не найдено. file: generated_data/text092.txt\n",
      "Название слишком длинное. Странно. file: generated_data/text093.txt\n",
      "Название текста не найдено. file: generated_data/text093.txt\n",
      "Название слишком длинное. Странно. file: generated_data/text090.txt\n",
      "Название текста не найдено. file: generated_data/text090.txt\n",
      "Название слишком длинное. Странно. file: generated_data/text068.txt\n",
      "Название текста не найдено. file: generated_data/text068.txt\n",
      "Название слишком длинное. Странно. file: generated_data/text040.txt\n",
      "Название текста не найдено. file: generated_data/text040.txt\n",
      "Название слишком длинное. Странно. file: generated_data/text054.txt\n",
      "Название текста не найдено. file: generated_data/text054.txt\n",
      "Название слишком длинное. Странно. file: generated_data/text018.txt\n",
      "Название текста не найдено. file: generated_data/text018.txt\n",
      "Название слишком длинное. Странно. file: generated_data/text024.txt\n",
      "Название текста не найдено. file: generated_data/text024.txt\n",
      "Название слишком длинное. Странно. file: generated_data/text008.txt\n",
      "Название текста не найдено. file: generated_data/text008.txt\n",
      "Название слишком длинное. Странно. file: generated_data/text058.txt\n",
      "Название текста не найдено. file: generated_data/text058.txt\n",
      "Название слишком длинное. Странно. file: generated_data/text067.txt\n",
      "Название текста не найдено. file: generated_data/text067.txt\n",
      "Название слишком длинное. Странно. file: generated_data/text049.txt\n",
      "Название текста не найдено. file: generated_data/text049.txt\n",
      "Название слишком длинное. Странно. file: generated_data/text074.txt\n",
      "Название текста не найдено. file: generated_data/text074.txt\n"
     ]
    }
   ],
   "source": [
    "Text = make_dataclass(\"Text\", [(\"title\", str), (\"text\", str), (\"label\", int), (\"url\", str)])\n",
    "texts = []\n",
    "\n",
    "file_pattern = 'generated_data/text*.txt'\n",
    "file_list = glob.glob(file_pattern)\n",
    "\n",
    "for file_path in file_list:\n",
    "    with open(file_path, 'r') as file:\n",
    "        file_text = file.read()\n",
    "        try:\n",
    "            new_text = preprocess(file_text, file_path)\n",
    "            texts.append(new_text)\n",
    "        except Exception as e:\n",
    "            print(\"Error: \", e)\n",
    "\n",
    "\n",
    "data = pd.DataFrame(texts)\n",
    "print(len(data))"
   ]
  },
  {
   "cell_type": "code",
   "execution_count": 202,
   "metadata": {},
   "outputs": [],
   "source": [
    "data.to_csv(\"generated_data/prpr_generated_data\")"
   ]
  },
  {
   "cell_type": "code",
   "execution_count": null,
   "metadata": {},
   "outputs": [],
   "source": []
  }
 ],
 "metadata": {
  "kernelspec": {
   "display_name": "Python 3",
   "language": "python",
   "name": "python3"
  },
  "language_info": {
   "codemirror_mode": {
    "name": "ipython",
    "version": 3
   },
   "file_extension": ".py",
   "mimetype": "text/x-python",
   "name": "python",
   "nbconvert_exporter": "python",
   "pygments_lexer": "ipython3",
   "version": "3.11.5"
  }
 },
 "nbformat": 4,
 "nbformat_minor": 2
}
