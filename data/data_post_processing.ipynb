{
 "cells": [
  {
   "cell_type": "code",
   "id": "initial_id",
   "metadata": {
    "collapsed": true,
    "ExecuteTime": {
     "end_time": "2024-04-10T08:41:28.410482Z",
     "start_time": "2024-04-10T08:41:28.408709Z"
    }
   },
   "source": [
    "import nltk\n",
    "import pandas as pd\n",
    "from nltk.stem import WordNetLemmatizer\n",
    "from nltk.corpus import stopwords\n",
    "from nltk.tokenize import WordPunctTokenizer\n",
    "import pymorphy2\n",
    "import re"
   ],
   "outputs": [],
   "execution_count": 18
  },
  {
   "metadata": {
    "ExecuteTime": {
     "end_time": "2024-04-10T08:41:28.736048Z",
     "start_time": "2024-04-10T08:41:28.733263Z"
    }
   },
   "cell_type": "code",
   "source": [
    "class DataPostProcessing:\n",
    "    def __init__(self):\n",
    "        nltk.download(\"stopwords\")\n",
    "\n",
    "        # Получить список стоп-слов на русском языке\n",
    "        self.my_stopwords = stopwords.words(\"russian\")\n",
    "        self.my_stopwords.extend(['что', 'это', 'так', 'вот', 'быть', 'как', 'в', 'к', 'на'])\n",
    "\n",
    "        # Инициализировать морфологический анализатор pymorphy2\n",
    "        self.morph = pymorphy2.MorphAnalyzer()\n",
    "\n",
    "    # Токенизировать текст\n",
    "    def stemming(self, content):\n",
    "        stemmed_content = re.sub('[^а-яА-Я]',' ',content) # Заменить всё, что не является буквой на ' '\n",
    "        stemmed_content = stemmed_content.lower() # привести всё к нижнему регистру\n",
    "        stemmed_content = stemmed_content.split() # засплитить по пробелам\n",
    "        return ' '.join([self.morph.parse(token)[0].normal_form for token in stemmed_content if token not in self.my_stopwords and token])\n",
    "    \n",
    "    def fit_transform(self, X: pd.Series) -> pd.Series:\n",
    "        return X.apply(self.stemming)"
   ],
   "id": "3ac709a6a9f0006f",
   "outputs": [],
   "execution_count": 19
  },
  {
   "metadata": {},
   "cell_type": "code",
   "outputs": [],
   "execution_count": null,
   "source": [
    "# Определить текст для обработки\n",
    "X = pd.Series([\"Это пример предложения для предварительной обработки текста на русском языке...\", \"Это второй пример предложения для пост обработки текста на русском языке...\"])\n",
    "post_proc = DataPostProcessing()\n",
    "res = post_proc.fit_transform(X)\n",
    "print(res.values)"
   ],
   "id": "48cebbfaa2acc599"
  }
 ],
 "metadata": {
  "kernelspec": {
   "display_name": "Python 3",
   "language": "python",
   "name": "python3"
  },
  "language_info": {
   "codemirror_mode": {
    "name": "ipython",
    "version": 2
   },
   "file_extension": ".py",
   "mimetype": "text/x-python",
   "name": "python",
   "nbconvert_exporter": "python",
   "pygments_lexer": "ipython2",
   "version": "2.7.6"
  }
 },
 "nbformat": 4,
 "nbformat_minor": 5
}
