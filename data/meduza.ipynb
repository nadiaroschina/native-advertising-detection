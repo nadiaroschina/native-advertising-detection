{
 "cells": [
  {
   "cell_type": "markdown",
   "metadata": {},
   "source": [
    "## Примеры использования meduza"
   ]
  },
  {
   "cell_type": "code",
   "execution_count": 1,
   "metadata": {},
   "outputs": [],
   "source": [
    "#!pip install meduza"
   ]
  },
  {
   "cell_type": "code",
   "execution_count": 1,
   "metadata": {},
   "outputs": [],
   "source": [
    "import meduza"
   ]
  },
  {
   "cell_type": "code",
   "execution_count": 2,
   "metadata": {},
   "outputs": [],
   "source": [
    "url = \"https://meduza.io/paragraph/2022/02/11/hochu-stat-graficheskim-dizaynerom-no-s-risunkom-u-menya-ne-ochen-kak-byt-maksimalno-korotkoe-ob-yasnenie\"\n",
    "\n",
    "article = meduza.get(url)\n",
    "\n",
    "article[\"title\"]\n",
    "\n",
    "article[\"second_title\"] = \"Trump and Putin meet in Helsinki, the ‘Deep State’ consensus, and Pussy Riot's heart-to-heart with the police\""
   ]
  },
  {
   "cell_type": "code",
   "execution_count": 3,
   "metadata": {},
   "outputs": [
    {
     "data": {
      "text/plain": [
       "True"
      ]
     },
     "execution_count": 3,
     "metadata": {},
     "output_type": "execute_result"
    }
   ],
   "source": [
    "article[\"tag\"][\"name\"] == 'партнерский материал'"
   ]
  },
  {
   "cell_type": "code",
   "execution_count": 4,
   "metadata": {},
   "outputs": [
    {
     "data": {
      "text/plain": [
       "['новости',\n",
       " 'истории',\n",
       " 'разбор',\n",
       " 'шапито',\n",
       " 'игры',\n",
       " 'подкасты',\n",
       " 'партнерский материал']"
      ]
     },
     "execution_count": 4,
     "metadata": {},
     "output_type": "execute_result"
    }
   ],
   "source": [
    "meduza.RU_TAGS"
   ]
  },
  {
   "cell_type": "markdown",
   "metadata": {},
   "source": [
    "## Попытка достать ссылки из датасета meduza.csv.gz"
   ]
  },
  {
   "cell_type": "markdown",
   "metadata": {},
   "source": [
    "Полезная, но пока не использованная ссылка: https://habr.com/ru/articles/283058/"
   ]
  },
  {
   "cell_type": "code",
   "execution_count": 1,
   "metadata": {},
   "outputs": [],
   "source": [
    "from corus import load_ods_meduza\n",
    "from tqdm import tqdm\n",
    "import numpy as np\n",
    "import pickle"
   ]
  },
  {
   "cell_type": "code",
   "execution_count": 6,
   "metadata": {},
   "outputs": [],
   "source": [
    "path = \"meduza.csv.gz\"\n",
    "records = list(load_ods_meduza(path))"
   ]
  },
  {
   "cell_type": "code",
   "execution_count": 7,
   "metadata": {},
   "outputs": [],
   "source": [
    "urls = [record.url for record in records]\n",
    "texts = [record.text for record in records]"
   ]
  },
  {
   "cell_type": "code",
   "execution_count": 8,
   "metadata": {},
   "outputs": [
    {
     "data": {
      "text/plain": [
       "71806"
      ]
     },
     "execution_count": 8,
     "metadata": {},
     "output_type": "execute_result"
    }
   ],
   "source": [
    "len(urls)"
   ]
  },
  {
   "cell_type": "code",
   "execution_count": 9,
   "metadata": {},
   "outputs": [
    {
     "data": {
      "text/plain": [
       "'С\\xa0марта 2019 года российским военным запрещено пользоваться смартфонами и\\xa0публиковать в\\xa0интернете фотографии со\\xa0службы. Соответствующие поправки к\\xa0закону «О\\xa0статусе военнослужащих» правительство подготовило в\\xa0сентябре 2018 года, а\\xa0Госдума и\\xa0Совет Федерации одобрили их\\xa0в\\xa0феврале 2019-го. В\\xa0марте закон подписал президент России Владимир Путин, и\\xa017\\xa0марта онnвступилnв\\xa0силу. Российских военных сразу\\xa0же начали наказывать за\\xa0найденные у\\xa0них смартфоны и\\xa0фото в\\xa0социальных сетях: обычно им\\xa0дают от\\xa0пяти до\\xa015 суток ареста, выяснила «Медуза», изучив решения военных судов.nВ\\xa0пояснительной записке к\\xa0поправкам правительствоnсвязывалоnих\\xa0необходимость с\\xa0военной операцией в\\xa0Сирии: еще до\\xa0того, как Россия в\\xa0сентябре 2015 года официально объявила о\\xa0ее\\xa0начале, расследователи заявлялиnо\\xa0присутствии в\\xa0странеnроссийских военных\\xa0— в\\xa0том числе на\\xa0основании их\\xa0фотографий из\\xa0соцсетей. Ранее участникиnConflict Intelligence Teamnи\\xa0другие независимыеnрасследователиnпубликовали материалы о\\xa0том, что Россия воюет на\\xa0востоке Украины.nНовый закон не\\xa0только запретил военным и\\xa0призывникам рассказывать в\\xa0интернете о\\xa0своей службе, но\\xa0и\\xa0вообще иметь при себе смартфоны, планшеты и\\xa0другие гаджеты с\\xa0доступом в\\xa0интернет и/или возможностью съемки фото и\\xa0видео. Этот\\xa0же закон отнес найденные у\\xa0военных на\\xa0службе гаджеты к\\xa0грубым дисциплинарным проступкам, за\\xa0которыеnполагаетсяnдо\\xa030 суток ареста. Отправить под арест может только военный суд.nПри этом на\\xa0мобильные телефоны без камер и\\xa0интернета закон не\\xa0распространяется,nговорилnв\\xa0феврале первый заместитель председателя комитета Госдумы по\\xa0обороне Андрей Красов. В\\xa0быту военным разрешено пользоваться смартфонами.nВ\\xa0середине июля 2019 годаnсразу несколькоnизданийnобратили внимание, что принятием закона дело не\\xa0ограничилось\\xa0— аналогичные поправки Минобороны решило внести в\\xa0дисциплинарный устав Вооруженных\\xa0сил. Документ с\\xa0проектом соответствующего приказа президента РФ\\xa0былnопубликованnна\\xa0портале проектов нормативных актов. По\\xa0состоянию на\\xa06\\xa0августа документ все еще не\\xa0одобрен. Будущее принятие поправок в\\xa0уставnмногие сочлиnфактическим началом практики по\\xa0«приравниванию смартфонов к\\xa0дедовщине» в\\xa0российской армии.nНа\\xa0самом деле массово отправлять российских военнослужащих под арест за\\xa0смартфоны или за\\xa0публикации в\\xa0соцсетях начали почти одновременно с\\xa0принятием закона, свидетельствуют судебные решения, опубликованные на\\xa0портале ГАС «Правосудие». Военные суды уже приняли десятки решений по\\xa0таким делам.nНапример, 1\\xa0апреля, меньше чем через две недели после вступления закона в\\xa0силу, военнослужащий Андрей Тарханов, находясь на\\xa0боевом дежурстве «в\\xa0качестве механика-водителя», опубликовал фотографии «в\\xa0информационно- телекоммуникационную сеть „Интернет“, социальную сеть Instagram»,nговоритсяnв\\xa0решении\\xa0Саратовского гарнизонного военного суда от\\xa019\\xa0апреля. Тарханов получил 15 суток ареста на\\xa0гауптвахте.nУ\\xa0рядового Андрея Трубачева 20\\xa0апреля был обнаружен и\\xa0изъят «абонентский терминал с\\xa0расширенными мультимедийными возможностями\\xa0— iPhone 8, который он\\xa0использовал с\\xa0января 2019\\xa0г. в\\xa0личных нуждах после отбоя»,nсказаноnв\\xa0решении Челябинского военного суда от\\xa017\\xa0мая. Трубачев получил пять суток ареста. Матрос Магомед-Хусейн Демельханов 10\\xa0апреля разговаривал в\\xa0казарме «по\\xa0видеосвязи, используя смартфон». Севастопольский военный суд 24\\xa0апреляnсчелn, что Демельханову будет достаточно одних суток ареста.nИногда командиры пытаются отправить солдат под арест за\\xa0смартфоны, найденные еще до\\xa0вступления закона в\\xa0силу. Например, у\\xa0военнослужащего Сергея Черного телефон нашли в\\xa0январе 2019 года. Он\\xa0«делал на\\xa0нем фотографии и\\xa0записывал видео по\\xa0месту прохождения военной службы». Уссурийский военный судnотказалсяnарестовывать Черного задним числом\\xa0— при этом сам военнослужащий признал себя виновным.nНо\\xa0так бывает не\\xa0всегда. Например, военнослужащий Егор Круглов, находясь на\\xa0боевом дежурстве в\\xa0декабре 2018 года и\\xa0апреле 2019 года, взял сотовый телефон у\\xa0сослуживца, после чего «сделал несколько своих снимков и\\xa0отправил их\\xa0своей девушке при помощи социальной сети», говорится в\\xa0решении Саратовского военного суда от\\xa030\\xa0мая (название соцсети в\\xa0решении не\\xa0уточняется). Военнослужащий признал себя виновным по\\xa0обоим эпизодам, включая 2018 год, суд тоже не\\xa0стал исключать его из\\xa0решения. Кругловnполучилn15 суток ареста.nЮрист «Комитета солдатских матерей» Вадим Жернаков сказал «Медузе», что командирам и\\xa0судам действительно не\\xa0нужно было дожидаться принятия поправок в\\xa0дисциплинарный устав. «Если исходить из\\xa0принципа главенства нормативной базы, то\\xa0сначала идет Конституция, потом федеральные законы, потом подзаконные акты,\\xa0— объясняет юрист. —\\xa0А\\xa0поскольку уставы утверждаются указом президента\\xa0— это подзаконные акты. Даже если чего-то нет в\\xa0подзаконном акте\\xa0— а\\xa0они меняются медленнее, чем законы\\xa0— руководствоваться нужно федеральным законодательством».nПетр Лохов'"
      ]
     },
     "execution_count": 9,
     "metadata": {},
     "output_type": "execute_result"
    }
   ],
   "source": [
    "texts[0]"
   ]
  },
  {
   "cell_type": "code",
   "execution_count": 10,
   "metadata": {},
   "outputs": [],
   "source": [
    "responses = []"
   ]
  },
  {
   "cell_type": "code",
   "execution_count": 11,
   "metadata": {},
   "outputs": [],
   "source": [
    "batch_size = 10"
   ]
  },
  {
   "cell_type": "code",
   "execution_count": 12,
   "metadata": {},
   "outputs": [
    {
     "data": {
      "text/plain": [
       "7180"
      ]
     },
     "execution_count": 12,
     "metadata": {},
     "output_type": "execute_result"
    }
   ],
   "source": [
    "len(urls) // batch_size"
   ]
  },
  {
   "cell_type": "markdown",
   "metadata": {},
   "source": [
    "1590 батч пропущен"
   ]
  },
  {
   "cell_type": "code",
   "execution_count": null,
   "metadata": {},
   "outputs": [],
   "source": [
    "for i in range(1872, len(urls) // batch_size):\n",
    "    temp = []\n",
    "    for url, text in tqdm(zip(urls[batch_size * i: batch_size * (i + 1)], \n",
    "                        texts[batch_size * i: batch_size * (i + 1)])):\n",
    "        resp = meduza.get(url)\n",
    "        temp.append({\"url\": url, \"text\": text,\"json\": resp})\n",
    "    if len(temp) == batch_size:\n",
    "        responses += temp\n",
    "    else:\n",
    "        print(\"problem\", i)\n",
    "        break"
   ]
  },
  {
   "cell_type": "code",
   "execution_count": 25,
   "metadata": {},
   "outputs": [],
   "source": [
    "import concurrent.futures"
   ]
  },
  {
   "cell_type": "code",
   "execution_count": 26,
   "metadata": {},
   "outputs": [],
   "source": [
    "def fetch_url(url, text):\n",
    "    resp = meduza.get(url)\n",
    "    return {\"url\": url, \"text\": text, \"json\": resp}"
   ]
  },
  {
   "cell_type": "code",
   "execution_count": 216,
   "metadata": {},
   "outputs": [
    {
     "name": "stderr",
     "output_type": "stream",
     "text": [
      "100%|██████████| 10/10 [00:00<00:00, 10.63it/s]\n",
      "100%|██████████| 10/10 [00:00<00:00, 12.39it/s]\n",
      "100%|██████████| 10/10 [00:00<00:00, 11.21it/s]\n",
      "100%|██████████| 10/10 [00:00<00:00, 14.84it/s]\n",
      "100%|██████████| 10/10 [00:00<00:00, 13.09it/s]\n",
      "100%|██████████| 10/10 [00:00<00:00, 12.19it/s]\n",
      "100%|██████████| 10/10 [00:01<00:00,  9.04it/s]\n",
      "100%|██████████| 10/10 [00:00<00:00, 14.59it/s]\n",
      "100%|██████████| 10/10 [00:00<00:00, 14.91it/s]\n",
      "100%|██████████| 10/10 [00:00<00:00, 12.16it/s]\n",
      "100%|██████████| 10/10 [00:00<00:00, 14.36it/s]\n",
      "100%|██████████| 10/10 [00:01<00:00,  6.84it/s]\n",
      "100%|██████████| 10/10 [00:00<00:00, 12.42it/s]\n",
      "100%|██████████| 10/10 [00:00<00:00, 13.03it/s]\n",
      "100%|██████████| 10/10 [00:00<00:00, 10.42it/s]\n",
      "100%|██████████| 10/10 [00:00<00:00, 11.23it/s]\n",
      "100%|██████████| 10/10 [00:00<00:00, 13.51it/s]\n",
      "100%|██████████| 10/10 [00:00<00:00, 10.20it/s]\n",
      "100%|██████████| 10/10 [00:01<00:00,  7.27it/s]\n",
      "100%|██████████| 10/10 [00:00<00:00, 12.69it/s]\n",
      "100%|██████████| 10/10 [00:00<00:00, 13.85it/s]\n",
      "100%|██████████| 10/10 [00:00<00:00, 13.03it/s]\n",
      "100%|██████████| 10/10 [00:00<00:00, 13.83it/s]\n",
      "100%|██████████| 10/10 [00:01<00:00,  5.08it/s]\n",
      "100%|██████████| 10/10 [00:00<00:00, 13.18it/s]\n",
      "100%|██████████| 10/10 [00:00<00:00, 12.36it/s]\n",
      "100%|██████████| 10/10 [00:00<00:00, 15.12it/s]\n",
      "100%|██████████| 10/10 [00:00<00:00, 12.04it/s]\n",
      "100%|██████████| 10/10 [00:01<00:00,  8.30it/s]\n",
      "100%|██████████| 10/10 [00:00<00:00, 13.94it/s]\n",
      "100%|██████████| 10/10 [00:00<00:00, 12.26it/s]\n",
      "100%|██████████| 10/10 [00:00<00:00, 10.36it/s]\n",
      "100%|██████████| 10/10 [00:01<00:00,  7.42it/s]\n",
      "100%|██████████| 10/10 [00:00<00:00, 12.68it/s]\n",
      "100%|██████████| 10/10 [00:01<00:00,  6.85it/s]\n",
      "100%|██████████| 10/10 [00:01<00:00,  5.20it/s]\n",
      "100%|██████████| 10/10 [00:01<00:00,  9.91it/s]\n",
      "100%|██████████| 10/10 [00:01<00:00,  7.41it/s]\n",
      "100%|██████████| 10/10 [00:01<00:00,  8.84it/s]\n",
      "100%|██████████| 10/10 [00:01<00:00,  5.60it/s]\n",
      "100%|██████████| 10/10 [00:00<00:00, 11.88it/s]\n",
      "100%|██████████| 10/10 [00:00<00:00, 11.08it/s]\n",
      "100%|██████████| 10/10 [00:00<00:00, 11.57it/s]\n",
      "100%|██████████| 10/10 [00:00<00:00, 12.62it/s]\n",
      "100%|██████████| 10/10 [00:01<00:00,  7.62it/s]\n",
      "100%|██████████| 10/10 [00:00<00:00, 11.48it/s]\n",
      "100%|██████████| 10/10 [00:00<00:00, 11.70it/s]\n",
      "100%|██████████| 10/10 [00:00<00:00, 14.04it/s]\n",
      "100%|██████████| 10/10 [00:01<00:00,  7.30it/s]\n",
      "100%|██████████| 10/10 [00:00<00:00, 12.26it/s]\n",
      "100%|██████████| 10/10 [00:00<00:00, 10.42it/s]\n",
      "100%|██████████| 10/10 [00:01<00:00,  5.44it/s]\n",
      "100%|██████████| 10/10 [00:00<00:00, 13.07it/s]\n",
      "100%|██████████| 10/10 [00:00<00:00, 10.50it/s]\n",
      "100%|██████████| 10/10 [00:01<00:00,  5.86it/s]\n",
      "100%|██████████| 10/10 [00:00<00:00, 10.03it/s]\n",
      "100%|██████████| 10/10 [00:01<00:00,  9.60it/s]\n",
      "100%|██████████| 10/10 [00:00<00:00, 12.00it/s]\n",
      "100%|██████████| 10/10 [00:01<00:00,  9.42it/s]\n",
      "100%|██████████| 10/10 [00:01<00:00,  9.81it/s]\n",
      "100%|██████████| 10/10 [00:00<00:00, 10.11it/s]\n",
      "100%|██████████| 10/10 [00:01<00:00,  7.39it/s]\n",
      "100%|██████████| 10/10 [00:01<00:00,  8.72it/s]\n"
     ]
    }
   ],
   "source": [
    "for i in range(7116 + 1,  len(urls) // batch_size):\n",
    "    temp = []\n",
    "    urls_iter = urls[batch_size * i:batch_size * (i+1)]\n",
    "    texts_iter = texts[batch_size * i:batch_size * (i+1)]\n",
    "    with concurrent.futures.ThreadPoolExecutor(max_workers=6) as executor:\n",
    "        futures = [executor.submit(fetch_url, url, text) for url, text in zip(urls_iter, texts_iter)]\n",
    "        for future in tqdm(concurrent.futures.as_completed(futures), total=len(urls_iter)):\n",
    "            temp.append(future.result())\n",
    "    responses += temp"
   ]
  },
  {
   "cell_type": "code",
   "execution_count": 217,
   "metadata": {},
   "outputs": [
    {
     "data": {
      "text/plain": [
       "71790"
      ]
     },
     "execution_count": 217,
     "metadata": {},
     "output_type": "execute_result"
    }
   ],
   "source": [
    "len(responses)"
   ]
  },
  {
   "cell_type": "code",
   "execution_count": 218,
   "metadata": {},
   "outputs": [
    {
     "data": {
      "text/plain": [
       "71790"
      ]
     },
     "execution_count": 218,
     "metadata": {},
     "output_type": "execute_result"
    }
   ],
   "source": [
    "len(np.unique([res[\"url\"] for res in responses]))"
   ]
  },
  {
   "cell_type": "code",
   "execution_count": 219,
   "metadata": {},
   "outputs": [],
   "source": [
    "tags = [resp[\"json\"][\"tag\"][\"name\"] for resp in responses]"
   ]
  },
  {
   "cell_type": "code",
   "execution_count": 220,
   "metadata": {},
   "outputs": [
    {
     "data": {
      "text/plain": [
       "[('игры', 643),\n",
       " ('истории', 9955),\n",
       " ('картотека', 47),\n",
       " ('медуза', 5),\n",
       " ('новости', 49794),\n",
       " ('партнерский материал', 1177),\n",
       " ('подкасты', 400),\n",
       " ('полигон', 468),\n",
       " ('разбор', 1206),\n",
       " ('реклама', 5),\n",
       " ('спецпроект', 84),\n",
       " ('тест', 2),\n",
       " ('шапито', 8001),\n",
       " ('шторм', 3)]"
      ]
     },
     "execution_count": 220,
     "metadata": {},
     "output_type": "execute_result"
    }
   ],
   "source": [
    "list(zip(*np.unique(tags, return_counts=True)))"
   ]
  },
  {
   "cell_type": "code",
   "execution_count": 221,
   "metadata": {},
   "outputs": [],
   "source": [
    "with open(\"meduza_response1.pkl\", \"wb\") as f:\n",
    "    pickle.dump(responses, f)"
   ]
  },
  {
   "cell_type": "code",
   "execution_count": 224,
   "metadata": {},
   "outputs": [
    {
     "data": {
      "text/plain": [
       "71790"
      ]
     },
     "execution_count": 224,
     "metadata": {},
     "output_type": "execute_result"
    }
   ],
   "source": [
    "with open(\"meduza_response1.pkl\", \"rb\") as f:\n",
    "    loaded_response = pickle.load(f)\n",
    "len(loaded_response)"
   ]
  },
  {
   "cell_type": "code",
   "execution_count": 211,
   "metadata": {},
   "outputs": [
    {
     "data": {
      "text/plain": [
       "{'name': 'новости'}"
      ]
     },
     "execution_count": 211,
     "metadata": {},
     "output_type": "execute_result"
    }
   ],
   "source": [
    "loaded_response[-1][\"json\"][\"tag\"]"
   ]
  },
  {
   "cell_type": "code",
   "execution_count": 134,
   "metadata": {},
   "outputs": [],
   "source": [
    "responses = loaded_response"
   ]
  },
  {
   "cell_type": "markdown",
   "metadata": {},
   "source": [
    "## Крафтим датасет"
   ]
  },
  {
   "cell_type": "code",
   "execution_count": 2,
   "metadata": {},
   "outputs": [
    {
     "data": {
      "text/plain": [
       "71790"
      ]
     },
     "execution_count": 2,
     "metadata": {},
     "output_type": "execute_result"
    }
   ],
   "source": [
    "with open(\"meduza_response1.pkl\", \"rb\") as f:\n",
    "    loaded_response = pickle.load(f)\n",
    "len(loaded_response)"
   ]
  },
  {
   "cell_type": "code",
   "execution_count": 3,
   "metadata": {},
   "outputs": [],
   "source": [
    "tags = [res[\"json\"][\"tag\"][\"name\"] for res in loaded_response]"
   ]
  },
  {
   "cell_type": "code",
   "execution_count": 6,
   "metadata": {},
   "outputs": [
    {
     "data": {
      "text/plain": [
       "{'игры': 643,\n",
       " 'истории': 9955,\n",
       " 'картотека': 47,\n",
       " 'медуза': 5,\n",
       " 'новости': 49794,\n",
       " 'партнерский материал': 1177,\n",
       " 'подкасты': 400,\n",
       " 'полигон': 468,\n",
       " 'разбор': 1206,\n",
       " 'реклама': 5,\n",
       " 'спецпроект': 84,\n",
       " 'тест': 2,\n",
       " 'шапито': 8001,\n",
       " 'шторм': 3}"
      ]
     },
     "execution_count": 6,
     "metadata": {},
     "output_type": "execute_result"
    }
   ],
   "source": [
    "all_dataset = dict(list(zip(*np.unique(tags, return_counts=True))))"
   ]
  },
  {
   "cell_type": "code",
   "execution_count": 7,
   "metadata": {},
   "outputs": [],
   "source": [
    "big_dataset_dist = {'игры': 643,\n",
    " 'истории': 9955,\n",
    " 'новости': 49794,\n",
    " 'партнерский материал': 1177,\n",
    " 'подкасты': 400,\n",
    " 'полигон': 468,\n",
    " 'разбор': 1206,\n",
    " 'шапито': 8001}"
   ]
  },
  {
   "cell_type": "code",
   "execution_count": 248,
   "metadata": {},
   "outputs": [],
   "source": [
    "# small_dataset_dist = {'игры': 100, 'истории': 100, 'новости': 1000, \n",
    "        #    'партнерский материал': 500, 'подкасты': 100, \n",
    "        #    'разбор': 100, 'шапито': 100}"
   ]
  },
  {
   "cell_type": "code",
   "execution_count": 11,
   "metadata": {},
   "outputs": [],
   "source": [
    "import pandas as pd\n",
    "import numpy as np\n",
    "from dataclasses import make_dataclass\n",
    "\n",
    "Text = make_dataclass(\"Text\", [(\"title\", str), (\"text\", str), (\"tag\", str), (\"url\", str)])"
   ]
  },
  {
   "cell_type": "code",
   "execution_count": 12,
   "metadata": {},
   "outputs": [],
   "source": [
    "np.random.seed(5050)\n",
    "indexes = []\n",
    "for tag, size in big_dataset_dist.items():\n",
    "    indexes += list(np.random.choice([i for i, t in enumerate(tags) if t == tag], size=size, replace=False))"
   ]
  },
  {
   "cell_type": "code",
   "execution_count": 13,
   "metadata": {},
   "outputs": [],
   "source": [
    "texts = []\n",
    "sliced_responses = [loaded_response[i] for i in indexes]\n",
    "for resp in sliced_responses:\n",
    "    texts.append(Text(np.nan, resp[\"text\"], resp[\"json\"][\"tag\"][\"name\"], resp[\"url\"]))\n"
   ]
  },
  {
   "cell_type": "code",
   "execution_count": 16,
   "metadata": {},
   "outputs": [],
   "source": [
    "dataset = pd.DataFrame(texts)\n",
    "dataset = dataset[dataset[\"text\"] != '']"
   ]
  },
  {
   "cell_type": "code",
   "execution_count": 19,
   "metadata": {},
   "outputs": [
    {
     "data": {
      "text/plain": [
       "{'игры': 53,\n",
       " 'истории': 9847,\n",
       " 'новости': 49746,\n",
       " 'партнерский материал': 752,\n",
       " 'подкасты': 400,\n",
       " 'полигон': 312,\n",
       " 'разбор': 1203,\n",
       " 'шапито': 7973}"
      ]
     },
     "execution_count": 19,
     "metadata": {},
     "output_type": "execute_result"
    }
   ],
   "source": [
    "dict(list(zip(*np.unique(dataset[\"tag\"], return_counts=True))))"
   ]
  },
  {
   "cell_type": "code",
   "execution_count": 20,
   "metadata": {},
   "outputs": [],
   "source": [
    "dataset.to_csv(\"meduza_dataset_big.csv\", index=False)"
   ]
  },
  {
   "cell_type": "code",
   "execution_count": null,
   "metadata": {},
   "outputs": [],
   "source": []
  }
 ],
 "metadata": {
  "kernelspec": {
   "display_name": "Python 3",
   "language": "python",
   "name": "python3"
  },
  "language_info": {
   "codemirror_mode": {
    "name": "ipython",
    "version": 3
   },
   "file_extension": ".py",
   "mimetype": "text/x-python",
   "name": "python",
   "nbconvert_exporter": "python",
   "pygments_lexer": "ipython3",
   "version": "3.11.5"
  }
 },
 "nbformat": 4,
 "nbformat_minor": 2
}
