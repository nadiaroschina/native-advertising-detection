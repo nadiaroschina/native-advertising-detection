{
 "cells": [
  {
   "cell_type": "code",
   "execution_count": 13,
   "metadata": {},
   "outputs": [],
   "source": [
    "import pandas as pd"
   ]
  },
  {
   "cell_type": "markdown",
   "metadata": {},
   "source": [
    "Можно взять подоловину датасета fake-news: https://www.kaggle.com/competitions/fake-news/data"
   ]
  },
  {
   "cell_type": "code",
   "execution_count": 14,
   "metadata": {},
   "outputs": [],
   "source": [
    "data = pd.read_csv(\"en/fake-news/train.csv\")"
   ]
  },
  {
   "cell_type": "code",
   "execution_count": 15,
   "metadata": {},
   "outputs": [
    {
     "name": "stdout",
     "output_type": "stream",
     "text": [
      "<class 'pandas.core.frame.DataFrame'>\n",
      "RangeIndex: 20800 entries, 0 to 20799\n",
      "Data columns (total 5 columns):\n",
      " #   Column  Non-Null Count  Dtype \n",
      "---  ------  --------------  ----- \n",
      " 0   id      20800 non-null  int64 \n",
      " 1   title   20242 non-null  object\n",
      " 2   author  18843 non-null  object\n",
      " 3   text    20761 non-null  object\n",
      " 4   label   20800 non-null  int64 \n",
      "dtypes: int64(2), object(3)\n",
      "memory usage: 812.6+ KB\n"
     ]
    }
   ],
   "source": [
    "data.info()"
   ]
  },
  {
   "cell_type": "code",
   "execution_count": 16,
   "metadata": {},
   "outputs": [
    {
     "data": {
      "text/plain": [
       "'\"Donald Trump pide que le encadenen en el sótano de la Casa Blanca durante la superluna \"\"HAY UN TRUMP QUE NO QUIERO QUE CONOZCÁIS\"\", HA DICHO superluna \\nAsegurando que es “lo más seguro para los ciudadanos y para mí mismo”, el nuevo presidente de los Estados Unidos, Donald Trump, ha pedido al servicio secreto que lo encadene en el sótano de la Casa Blanca durante la noche de hoy “y hasta que la superluna desaparezca”. \\n“La coincidencia temporal de mi presidencia y de la mayor y más brillante Luna desde 1948 y hasta 2034 no es casualidad”, ha declarado Trump desde la Casa Blanca minutos antes de ser encadenado en una de las dependencias subterráneas de la Casa Blanca, según han informado la CNN y el New York Times a última hora de la tarde. “Pedir que me sujeten con cuerdas y me ajusten en la cara un bozal de plata es completamente normal, no es necesario alarmarse”, ha explicado. \\n“Un mal que ni siquiera yo puedo controlar está despertando en mí, pero podéis estar tranquilos”, ha dicho. \\n“Si os parezco racista no queráis saber cómo soy cuando hay una luna como la de esta noche”, ha declarado el presidente. Según dice, durante la noche de hoy tendrán lugar ciertos “cambios fisiológicos probablemente reversibles y sin conssecuencias” en su persona. \\n“Un Trump que no conocéis está a punto de ser desatado pero si estoy bien encadenado no sucederá nada que haya que lamentar”, ha explicado el propio Trump. \\n“Ya viene, el otro Trump ya viene y tiene hambre”, ha insistido al notar que su peinado se agitaba como si tuviera vida propia. El líder republicano, que derrotó a Clinton en unas tensas elecciones presidenciales, ha querido dejar claro que lo que vaya a ocurrirle hoy “no es peligroso y es absolutamente rutinario”, aunque ha advertido al Servicio Secreto que si esta noche logra escapar del sótano le disparen sin dudarlo. \\n“Desatadme por la mañana si sigo vivo”, ha concluido Trump. \\nEl servicio secreto ha advertido a los americanos que si escuchan quejidos, insultos y comentarios misóginos procedentes del sótano del 1600 de Pennsylvania Avenue no se asomen y sigan encerrados en sus casas hasta el amanecer.\"\\n'"
      ]
     },
     "execution_count": 16,
     "metadata": {},
     "output_type": "execute_result"
    }
   ],
   "source": [
    "data[data[\"label\"]==1].sample()[\"text\"].to_csv(header=None, index=None)"
   ]
  },
  {
   "cell_type": "code",
   "execution_count": 17,
   "metadata": {},
   "outputs": [
    {
     "data": {
      "text/plain": [
       "'\"After former NFL star Aaron Hernandez was found dead in his jail cell last week, authorities found three suicide notes lying near his body, one addressed to his fiancée, one to his daughter, and the third to his prison boyfriend. Authorities are now questioning whether the player’s complicated sex life was a prime motivation for his years of troublesome behavior, and ultimately his suicide. [Authorities discovered much focus on the Bible inside Hernandez’s jail cell after his death. Not only did he write a portion of a Bible verse on his forehead  —   John 3:16  —   he had also used a red marker to mimic Christ’s stigmata on his hands and feet. Along with the stigmata, which are markings emulating the wounds Jesus suffered on the cross, a Bible was opened to the same verse he excerpted on his forehead. That verse reads, “For God so loved the world that he gave his one and only son, that whosoever believes in him would not perish but have eternal life. ”  The suicide seemed to come at a strange time for Aaron Hernandez, since it occurred only a few days after he had been cleared in his second murder trial. The letter to the player’s prison boyfriend might go toward explaining much of the former New England Patriots’ life, Newsweek reported. Investigations against Hernandez have revealed that there may have been elements of sex, deception, and secrecy to the player’s unsettled life. In 2015 Hernandez was convicted of the murder of Odin Lloyd, the man who was dating the sister of the NFL player’s fiancée. In some ways Lloyd’s murder made little sense, but police were working on an angle that Hernandez killed Lloyd because Lloyd knew of the player’s bisexuality and Hernandez wanted that information kept secret. A relationship Hernandez reportedly had with a high school friend also played a role in the investigation. Ernest Wallace, a   in the murder of Lloyd, told police in several different ways that he thought Hernandez was gay. Hernandez’s is bisexuality now seems practically assured after the discovery of the letter to his prison boyfriend. Investigators also speculated that Hernandez’s sexual proclivities may have been at the root of his bouts of violence. Hernandez had a long list of outbursts going back to his youth, and many of these incidents also formed a central part in the case against the NFL player in Lloyd’s murder. Perhaps there will be no way to prove the suspicions that Hernandez’ sexual proclivities led to his turbulent life, but it would certainly make sense. Follow Warner Todd Huston on Twitter @warnerthuston or email the author at igcolonel@hotmail. com.\"\\n'"
      ]
     },
     "execution_count": 17,
     "metadata": {},
     "output_type": "execute_result"
    }
   ],
   "source": [
    "data[data[\"label\"]==0].sample()[\"text\"].to_csv(header=None, index=None)"
   ]
  },
  {
   "cell_type": "code",
   "execution_count": 18,
   "metadata": {},
   "outputs": [],
   "source": [
    "test_data = pd.read_csv(\"en/fake-news/test.csv\")"
   ]
  },
  {
   "cell_type": "code",
   "execution_count": 19,
   "metadata": {},
   "outputs": [
    {
     "name": "stdout",
     "output_type": "stream",
     "text": [
      "<class 'pandas.core.frame.DataFrame'>\n",
      "RangeIndex: 5200 entries, 0 to 5199\n",
      "Data columns (total 4 columns):\n",
      " #   Column  Non-Null Count  Dtype \n",
      "---  ------  --------------  ----- \n",
      " 0   id      5200 non-null   int64 \n",
      " 1   title   5078 non-null   object\n",
      " 2   author  4697 non-null   object\n",
      " 3   text    5193 non-null   object\n",
      "dtypes: int64(1), object(3)\n",
      "memory usage: 162.6+ KB\n"
     ]
    }
   ],
   "source": [
    "test_data.info()"
   ]
  },
  {
   "cell_type": "markdown",
   "metadata": {},
   "source": [
    "Странный датасет без текстов https://www.kaggle.com/datasets/kotartemiy/topic-labeled-news-dataset/data"
   ]
  },
  {
   "cell_type": "code",
   "execution_count": 22,
   "metadata": {},
   "outputs": [],
   "source": [
    "data_links = pd.read_csv(\"en/labelled_newscatcher_dataset.csv\", sep=\";\")"
   ]
  },
  {
   "cell_type": "code",
   "execution_count": 23,
   "metadata": {},
   "outputs": [
    {
     "data": {
      "text/html": [
       "<div>\n",
       "<style scoped>\n",
       "    .dataframe tbody tr th:only-of-type {\n",
       "        vertical-align: middle;\n",
       "    }\n",
       "\n",
       "    .dataframe tbody tr th {\n",
       "        vertical-align: top;\n",
       "    }\n",
       "\n",
       "    .dataframe thead th {\n",
       "        text-align: right;\n",
       "    }\n",
       "</style>\n",
       "<table border=\"1\" class=\"dataframe\">\n",
       "  <thead>\n",
       "    <tr style=\"text-align: right;\">\n",
       "      <th></th>\n",
       "      <th>topic</th>\n",
       "      <th>link</th>\n",
       "      <th>domain</th>\n",
       "      <th>published_date</th>\n",
       "      <th>title</th>\n",
       "      <th>lang</th>\n",
       "    </tr>\n",
       "  </thead>\n",
       "  <tbody>\n",
       "    <tr>\n",
       "      <th>39183</th>\n",
       "      <td>WORLD</td>\n",
       "      <td>https://www.rferl.org/a/kyiv-angry-over-belaru...</td>\n",
       "      <td>rferl.org</td>\n",
       "      <td>2020-08-15 19:57:00</td>\n",
       "      <td>Kyiv Angry Over Belarus's Release Of Alleged R...</td>\n",
       "      <td>en</td>\n",
       "    </tr>\n",
       "  </tbody>\n",
       "</table>\n",
       "</div>"
      ],
      "text/plain": [
       "       topic                                               link     domain  \\\n",
       "39183  WORLD  https://www.rferl.org/a/kyiv-angry-over-belaru...  rferl.org   \n",
       "\n",
       "            published_date                                              title  \\\n",
       "39183  2020-08-15 19:57:00  Kyiv Angry Over Belarus's Release Of Alleged R...   \n",
       "\n",
       "      lang  \n",
       "39183   en  "
      ]
     },
     "execution_count": 23,
     "metadata": {},
     "output_type": "execute_result"
    }
   ],
   "source": [
    "data_links.sample()"
   ]
  },
  {
   "cell_type": "markdown",
   "metadata": {},
   "source": [
    "Дамп Lenta.ru https://github.com/yutkin/Lenta.Ru-News-Dataset"
   ]
  },
  {
   "cell_type": "code",
   "execution_count": 24,
   "metadata": {},
   "outputs": [
    {
     "name": "stderr",
     "output_type": "stream",
     "text": [
      "/var/folders/c1/6p_qy_fs0jj5z6y2p5nfx08w0000gn/T/ipykernel_27776/3817947431.py:1: DtypeWarning: Columns (3) have mixed types. Specify dtype option on import or set low_memory=False.\n",
      "  lenta_ru = pd.read_csv(\"lenta-ru-news.csv\")\n"
     ]
    }
   ],
   "source": [
    "lenta_ru = pd.read_csv(\"lenta-ru-news.csv\")"
   ]
  },
  {
   "cell_type": "code",
   "execution_count": 25,
   "metadata": {},
   "outputs": [
    {
     "name": "stdout",
     "output_type": "stream",
     "text": [
      "<class 'pandas.core.frame.DataFrame'>\n",
      "RangeIndex: 800975 entries, 0 to 800974\n",
      "Data columns (total 6 columns):\n",
      " #   Column  Non-Null Count   Dtype \n",
      "---  ------  --------------   ----- \n",
      " 0   url     800975 non-null  object\n",
      " 1   title   800975 non-null  object\n",
      " 2   text    800970 non-null  object\n",
      " 3   topic   738973 non-null  object\n",
      " 4   tags    773756 non-null  object\n",
      " 5   date    800975 non-null  object\n",
      "dtypes: object(6)\n",
      "memory usage: 36.7+ MB\n"
     ]
    }
   ],
   "source": [
    "lenta_ru.info()"
   ]
  },
  {
   "cell_type": "code",
   "execution_count": 26,
   "metadata": {},
   "outputs": [
    {
     "data": {
      "text/plain": [
       "'\"Самый богатый житель Венгрии и бывший топ-менеджер \"\"Газпрома\"\" Мегдет Рахимкулов вернулся в Россию. Об этом сообщает агентство \"\"Интерфакс\"\" со ссылкой на сообщение в венгерском журнале HVG. По сведениям издания, Рахимкулов решил сосредоточиться на бизнесе в России. Компанией Kafijat Zrt, которая управляет инвестициями Рахимкулова в Венгрии, руководить будут сыновья бизнесмена, Руслан и Тимур. Мегдет Рахимкулов до 2001 года занимал пост главы посреднической фирмы Panrusgas, являющейся совместным предприятием \"\"Газпрома\"\" и венгерской компании MOL. Кроме того, в 2006 году он активно инвестировал средства в акции крупнейшего в Венгрии банка OTP Bank. По оценкам журнала The Forbes, состояние Мегдета Рахимкулова составляет 1,1 миллиарда долларов. В 2008 году бизнесмен занял 99-е место в рейтинге ста российских миллиардеров, который составил журнал.\"\\n'"
      ]
     },
     "execution_count": 26,
     "metadata": {},
     "output_type": "execute_result"
    }
   ],
   "source": [
    "lenta_ru.sample()[\"text\"].to_csv(header=None, index=None)"
   ]
  },
  {
   "cell_type": "code",
   "execution_count": 27,
   "metadata": {},
   "outputs": [
    {
     "data": {
      "text/plain": [
       "'\"Организация ICANN (Internet Corporation for Assigned Names and Numbers) утвердила заявку России на кириллический домен .РФ, говорится в официальном сообщении, опубликованном на сайте Минкомсвязи. Россия стала первой страной, получившей право на кириллический домен верхнего уровня. 22 апреля на заседании правления ICANN, которая отвечает за распределение доменных имен, были одобрены заявки на делегирование новых страновых доменов верхнего уровня. Помимо России, доменами на национальном языке обзаведутся Египет, ОАЭ и Саудовская Аравия. Решение ICANN позволит осуществить процедуру физического запуска (поднятия) корневого домена техническим центром IANA. Представитель Координационного центра национального домена сети интернет Юлия Овчинникова сообщила РИА Новости, что эта процедура может занять до двух месяцев. При этом одобрение ICANN является финальным шагом на пути создания доменной зоны .РФ. Отметим, что 11 мая завершается первый этап приоритетной регистрации доменов в зоне .РФ. С 12 мая в силу вступит новое положение, которое существенно расширит количество пользователей, имеющих право на регистрацию доменов. Всего Координационный совет намеревается провести три этапа приоритетной регистрации. Планируется, что предварительные заявки на домены от владельцев товарных знаков и фирменных наименований, некоммерческих организаций и СМИ перестанут принимать 16 сентября 2010 года.\"\\n'"
      ]
     },
     "execution_count": 27,
     "metadata": {},
     "output_type": "execute_result"
    }
   ],
   "source": [
    "lenta_ru[lenta_ru[\"topic\"] == 'Интернет и СМИ'][\"text\"].sample().to_csv(header=None, index=None)"
   ]
  },
  {
   "cell_type": "markdown",
   "metadata": {},
   "source": [
    "Еще можно данных можно взять здесь: https://natasha.github.io/corus/"
   ]
  },
  {
   "cell_type": "markdown",
   "metadata": {},
   "source": []
  }
 ],
 "metadata": {
  "kernelspec": {
   "display_name": "Python 3",
   "language": "python",
   "name": "python3"
  },
  "language_info": {
   "codemirror_mode": {
    "name": "ipython",
    "version": 3
   },
   "file_extension": ".py",
   "mimetype": "text/x-python",
   "name": "python",
   "nbconvert_exporter": "python",
   "pygments_lexer": "ipython3",
   "version": "3.11.5"
  }
 },
 "nbformat": 4,
 "nbformat_minor": 2
}
