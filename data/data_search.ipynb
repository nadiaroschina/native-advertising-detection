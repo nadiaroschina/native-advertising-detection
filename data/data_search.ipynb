{
 "cells": [
  {
   "cell_type": "code",
   "execution_count": 2,
   "metadata": {},
   "outputs": [],
   "source": [
    "import pandas as pd\n",
    "import numpy as np"
   ]
  },
  {
   "cell_type": "markdown",
   "metadata": {},
   "source": [
    "Можно взять подоловину датасета fake-news: https://www.kaggle.com/competitions/fake-news/data"
   ]
  },
  {
   "cell_type": "code",
   "execution_count": 11,
   "metadata": {},
   "outputs": [],
   "source": [
    "data = pd.read_csv(\"en/fake-news/train.csv\")"
   ]
  },
  {
   "cell_type": "code",
   "execution_count": 12,
   "metadata": {},
   "outputs": [
    {
     "name": "stdout",
     "output_type": "stream",
     "text": [
      "<class 'pandas.core.frame.DataFrame'>\n",
      "RangeIndex: 20800 entries, 0 to 20799\n",
      "Data columns (total 5 columns):\n",
      " #   Column  Non-Null Count  Dtype \n",
      "---  ------  --------------  ----- \n",
      " 0   id      20800 non-null  int64 \n",
      " 1   title   20242 non-null  object\n",
      " 2   author  18843 non-null  object\n",
      " 3   text    20761 non-null  object\n",
      " 4   label   20800 non-null  int64 \n",
      "dtypes: int64(2), object(3)\n",
      "memory usage: 812.6+ KB\n"
     ]
    }
   ],
   "source": [
    "data.info()"
   ]
  },
  {
   "cell_type": "code",
   "execution_count": 13,
   "metadata": {},
   "outputs": [
    {
     "data": {
      "text/plain": [
       "'\"Thomas Reuters cuts 2000 jobs, spends $200m streamlining November 01, 2016 The Thomson Reuters logo is seen on the company building in Times Square, New York October 29, 2013. REUTERS/Carlo Allegri/File Photo \\nThomas Reuters Corp has announced they will spend $200-250 million in the fourth quarter to streamline operations, including cutting 2000 jobs, across 150 locations, in 39 countries, approximately 4 percent of their workforce. Spokesman: Thomas Reuters Corp employs about 48,000 people globally. Jim Smith, chief executive: The changes come as part of its multi-year effort to streamline its businesses. Smith: “It\\'s about simplification and taking out bureaucracy and taking out layers all of which have added complexity and slowed us down.” \"\"These actions are not driven by any reaction to market conditions or in any way coming on the back of underperformance.\"\" Thomson Reuters is the parent of Reuters News. Memo posted Tuesday: There will be no decline in headcount in the Reuters newsroom. Thomas Reuters Corp reported net income for Q3 was $286 million or 36 cents per share. Net income Q3 2015: $293 million or 36 cents per share. Thomson Reuters I/B/E/S: Excluding special items, earnings were 54 cents per share. Analysts on average expected 47 cents. Revenue rose 1 percent to $2.74 billion before currency effects and was flat when they were factored in. Thomas Reuters Corp reiterated its forecast of 2 percent to 3 percent revenue growth for the year. Financial & Risk segment: Sales outpaced cancellations for the 10th straight quarter, overall unit revenue was flat at $1.52 billion. Due to streamline spending, Reuters has lowered its 2016 forecast for underlying operating profit margin to between 16 percent to 17 percent, from 18.4 to 19.4 percent. \\n(NEW YORK CITY) Thomson Reuters Corp said on Tuesday it would cut about 2,000 jobs worldwide, about 4 percent of its workforce, and take a fourth-quarter charge of $200 million to $250 million to streamline its business. \\nThe restructuring across 39 countries and 150 locations would mainly affect the Financial & Risk business and the Enterprise, Technology & Operations Group, the news and information company said. The company employs about 48,000 people globally, a spokesman said. \\nThe changes come as part of its multi-year effort to streamline its businesses, said Jim Smith, chief executive, in an interview Tuesday. \\n\"\"It\\'s about simplification and taking out bureaucracy and taking out layers all of which have added complexity and slowed us down,\"\" he said. \"\"These actions are not driven by any reaction to market conditions or in any way coming on the back of underperformance.\"\" \\nThomson Reuters is the parent of Reuters News, which competes for financial customers with Bloomberg LP as well as News Corp\\'s Dow Jones unit. There will be no decline in headcount in the Reuters newsroom, according to a memo to employees on Tuesday.\"\\n'"
      ]
     },
     "execution_count": 13,
     "metadata": {},
     "output_type": "execute_result"
    }
   ],
   "source": [
    "data[data[\"label\"]==1].sample()[\"text\"].to_csv(header=None, index=None)"
   ]
  },
  {
   "cell_type": "code",
   "execution_count": 14,
   "metadata": {},
   "outputs": [
    {
     "data": {
      "text/plain": [
       "'\"For more than seven years, Preet Bharara, the United States attorney for the Southern District of New York, made a name for himself as one of the nation’s most aggressive and outspoken prosecutors of public corruption and Wall Street crime. With Mr. Bharara, 48, being told on Friday to step down from his post, it was unclear what effect his expected departure might have on the office’s current investigations. In past presidential transitions, the storied office, long known to be so independent of Washington that some people referred to it as the Sovereign District of New York, has in large measure moved forward unaffected by politics. Under Mr. Bharara, the office prosecuted Democratic and Republican officials with equal ardor, most notably Sheldon Silver, the former Democratic speaker of New York’s Assembly, and Dean G. Skelos, the former Republican majority leader of the State Senate. His office is preparing to try a group of former aides and associates of Gov. Andrew M. Cuomo in a   bribery and   case and has been investigating Mayor Bill de Blasio’s campaign   as part of an inquiry into whether he or other officials exchanged official acts for political donations. The investigation into Mr. de Blasio’s   perhaps the office’s highest profile continuing inquiry, began roughly a year ago and appears to be in its final stages, with prosecutors and F. B. I. agents interviewing the mayor for four hours two weeks ago. The mayor’s press secretary said at the time that Mr. de Blasio was cooperating in the inquiry and that “at all times the mayor and his staff acted appropriately and well within the law. ” Investigators have scrutinized scores of donors to the mayor’s 2013 campaign and his now defunct political nonprofit, seeking to determine whether anyone received favorable city action in exchange for their largess. And with the mayor gearing up for his   campaign  —   he is now seeking to raise the bulk of his war chest from smaller donors  —   his lawyers are pressing prosecutors to conclude the investigation or, they say, risk affecting the election’s outcome. It remains unclear whether Mr. Bharara and his top aides have determined whether they will seek charges  —   against the mayor, any of his top aides or his primary  . Under Mr. Bharara’s stewardship, the office was also known for its insider trading investigations, civil rights cases and terrorism prosecutions. Another pending investigation appears to focus on how Fox News structured settlements of claims brought by network employees. Mr. Bharara would presumably be succeeded temporarily by his deputy, Joon H. Kim, a longtime prosecutor and former head of the office’s criminal division. Also on Friday, the United States attorney for New Jersey, Paul J. Fishman, said in a statement that his resignation had been requested and in Brooklyn, Robert L. Capers, said he had been “instructed to resign. ” Mr. Bharara had not issued a statement as of Friday evening, when his office was uncertain whether the resignation request applied to him. The announcement that he had been told to resign along with 45 other United States attorneys around the country comes little more than three months after he met with Donald J. Trump, then   at Trump Tower, and announced afterward that Mr. Trump had asked him to stay on as the United States attorney. Speaking to reporters after the meeting, Mr. Bharara said that Mr. Trump had asked to see him to discuss “whether or not I’d be prepared to stay on as the United States attorney to do the work as we have done it, independently, without fear or favor for the last seven years. ” “We had a good meeting,” Mr. Bharara said. “I said I would absolutely consider staying on. I agreed to stay on. ” Mr. Bharara also said at the time that he had already spoken with   Jeff Sessions, the Republican of Alabama who Mr. Trump appointed attorney general. “He also asked that I stay on, and so I expect that I will be continuing,” Mr. Bharara said. Among the names of lawyers mentioned as a possible United States attorney in Manhattan in the Trump administration is Marc L. Mukasey, a former Southern District prosecutor and the son of Michael B. Mukasey, the former attorney general in the Bush administration. The younger Mr. Mukasey is now a lawyer at Greenberg Traurig, a law firm in New York where Rudolph W. Giuliani, a close associate of Mr. Trump, also works. Mr. Mukasey declined to comment on Friday. Mr. Bharara is no stranger to politics: before being appointed United States attorney by President Barack Obama in 2009, he served as chief counsel to Senator Charles E. Schumer, Democrat of New York, and played a major role in the Senate Judiciary Committee’s investigation into the politically motivated firings of United States attorneys by the Justice Department under President George W. Bush. If there is a “credible whiff that justice has been politicized,” Mr. Bharara told The New York Times in 2014, “there’s nothing worse than that. ”\"\\n'"
      ]
     },
     "execution_count": 14,
     "metadata": {},
     "output_type": "execute_result"
    }
   ],
   "source": [
    "data[data[\"label\"]==0].sample()[\"text\"].to_csv(header=None, index=None)"
   ]
  },
  {
   "cell_type": "code",
   "execution_count": 15,
   "metadata": {},
   "outputs": [],
   "source": [
    "test_data = pd.read_csv(\"en/fake-news/test.csv\")"
   ]
  },
  {
   "cell_type": "code",
   "execution_count": 16,
   "metadata": {},
   "outputs": [
    {
     "name": "stdout",
     "output_type": "stream",
     "text": [
      "<class 'pandas.core.frame.DataFrame'>\n",
      "RangeIndex: 5200 entries, 0 to 5199\n",
      "Data columns (total 4 columns):\n",
      " #   Column  Non-Null Count  Dtype \n",
      "---  ------  --------------  ----- \n",
      " 0   id      5200 non-null   int64 \n",
      " 1   title   5078 non-null   object\n",
      " 2   author  4697 non-null   object\n",
      " 3   text    5193 non-null   object\n",
      "dtypes: int64(1), object(3)\n",
      "memory usage: 162.6+ KB\n"
     ]
    }
   ],
   "source": [
    "test_data.info()"
   ]
  },
  {
   "cell_type": "markdown",
   "metadata": {},
   "source": [
    "Странный датасет без текстов https://www.kaggle.com/datasets/kotartemiy/topic-labeled-news-dataset/data"
   ]
  },
  {
   "cell_type": "code",
   "execution_count": 17,
   "metadata": {},
   "outputs": [],
   "source": [
    "data_links = pd.read_csv(\"en/labelled_newscatcher_dataset.csv\", sep=\";\")"
   ]
  },
  {
   "cell_type": "code",
   "execution_count": 18,
   "metadata": {},
   "outputs": [
    {
     "data": {
      "text/html": [
       "<div>\n",
       "<style scoped>\n",
       "    .dataframe tbody tr th:only-of-type {\n",
       "        vertical-align: middle;\n",
       "    }\n",
       "\n",
       "    .dataframe tbody tr th {\n",
       "        vertical-align: top;\n",
       "    }\n",
       "\n",
       "    .dataframe thead th {\n",
       "        text-align: right;\n",
       "    }\n",
       "</style>\n",
       "<table border=\"1\" class=\"dataframe\">\n",
       "  <thead>\n",
       "    <tr style=\"text-align: right;\">\n",
       "      <th></th>\n",
       "      <th>topic</th>\n",
       "      <th>link</th>\n",
       "      <th>domain</th>\n",
       "      <th>published_date</th>\n",
       "      <th>title</th>\n",
       "      <th>lang</th>\n",
       "    </tr>\n",
       "  </thead>\n",
       "  <tbody>\n",
       "    <tr>\n",
       "      <th>28282</th>\n",
       "      <td>SPORTS</td>\n",
       "      <td>https://www.goal.com/en-us/news/lautaro-links-...</td>\n",
       "      <td>goal.com</td>\n",
       "      <td>2020-08-08 18:30:00</td>\n",
       "      <td>‘Lautaro links to Barcelona more media than re...</td>\n",
       "      <td>en</td>\n",
       "    </tr>\n",
       "  </tbody>\n",
       "</table>\n",
       "</div>"
      ],
      "text/plain": [
       "        topic                                               link    domain  \\\n",
       "28282  SPORTS  https://www.goal.com/en-us/news/lautaro-links-...  goal.com   \n",
       "\n",
       "            published_date                                              title  \\\n",
       "28282  2020-08-08 18:30:00  ‘Lautaro links to Barcelona more media than re...   \n",
       "\n",
       "      lang  \n",
       "28282   en  "
      ]
     },
     "execution_count": 18,
     "metadata": {},
     "output_type": "execute_result"
    }
   ],
   "source": [
    "data_links.sample()"
   ]
  },
  {
   "cell_type": "markdown",
   "metadata": {},
   "source": [
    "Дамп Lenta.ru https://github.com/yutkin/Lenta.Ru-News-Dataset"
   ]
  },
  {
   "cell_type": "code",
   "execution_count": 19,
   "metadata": {},
   "outputs": [
    {
     "name": "stderr",
     "output_type": "stream",
     "text": [
      "/var/folders/c1/6p_qy_fs0jj5z6y2p5nfx08w0000gn/T/ipykernel_31398/3817947431.py:1: DtypeWarning: Columns (3) have mixed types. Specify dtype option on import or set low_memory=False.\n",
      "  lenta_ru = pd.read_csv(\"lenta-ru-news.csv\")\n"
     ]
    }
   ],
   "source": [
    "lenta_ru = pd.read_csv(\"lenta-ru-news.csv\")"
   ]
  },
  {
   "cell_type": "code",
   "execution_count": 20,
   "metadata": {},
   "outputs": [
    {
     "name": "stdout",
     "output_type": "stream",
     "text": [
      "<class 'pandas.core.frame.DataFrame'>\n",
      "RangeIndex: 800975 entries, 0 to 800974\n",
      "Data columns (total 6 columns):\n",
      " #   Column  Non-Null Count   Dtype \n",
      "---  ------  --------------   ----- \n",
      " 0   url     800975 non-null  object\n",
      " 1   title   800975 non-null  object\n",
      " 2   text    800970 non-null  object\n",
      " 3   topic   738973 non-null  object\n",
      " 4   tags    773756 non-null  object\n",
      " 5   date    800975 non-null  object\n",
      "dtypes: object(6)\n",
      "memory usage: 36.7+ MB\n"
     ]
    }
   ],
   "source": [
    "lenta_ru.info()"
   ]
  },
  {
   "cell_type": "code",
   "execution_count": 21,
   "metadata": {},
   "outputs": [
    {
     "data": {
      "text/plain": [
       "'\"В бразильском Манаусе состоится поединок между бойцом смешанного стиля (ММА) Раильсоном Пайшау и женщиной-трансгендером Анн Вериату. Об этом сообщает mmafighting.com. 21-летняя Вериату занимается джиу-джитсу с семи лет, являясь обладателем коричневого пояса. Спортсменка неоднократно одерживала победы против мужчин в соревнованиях по джиу-джитсу. «Наверняка его товарищи по команде и друзья будут считать его обязанным победить, окажут на него давление. Так было на протяжении моей карьеры в джиу-джитсу, не думаю, что в MMA что-то поменяется», — прокомментировала предстоящий бой Вериату. Бой Пайшау и Вериату заявлен как противостояние в суперлегком весе. Это будет первый в истории MMA бой мужчины против женщины-трансгендера. В январе боец UFC Пауло Коста вызывал на поединок транссексуала Фэллона Фокса, до этого проводившего бои исключительно против женщин.\"\\n'"
      ]
     },
     "execution_count": 21,
     "metadata": {},
     "output_type": "execute_result"
    }
   ],
   "source": [
    "lenta_ru.sample()[\"text\"].to_csv(header=None, index=None)"
   ]
  },
  {
   "cell_type": "code",
   "execution_count": 22,
   "metadata": {},
   "outputs": [
    {
     "data": {
      "text/plain": [
       "'\"Российский стартап Ecwid, позволяющий создавать интернет-магазины, не обладая навыками программирования, получил второй раунд инвестиций на пять миллионов долларов от фондов iTech Capital и Runa Capital. Об этом говорится в сообщении Runa Capital. Сервис Ecwid позволяет пользователю самостоятельно создать собственный интернет-магазин из готовых элементов. Интерфейс магазина может быть размещен как на отдельном сайте, так и в блоге или на странице в соцсети. Привлеченное финансирование стартап планирует направить на расширение клиентской базы, развитие технологий мобильной и социальной коммерции, а также на взаимодействие с производителями POS-терминалов и кассовых аппаратов с целью автоматизации онлайн-продаж. На данный момент клиентская база Ecwid насчитывает более 500 тысяч пользователей в 175 странах, по данным компании. Интерфейс сервиса переведен на 45 языков. Фонд iTech Capital выступает основным инвестором в этом раунде. Доли в Ecwid, получаемые инвесторами взамен их вложений, не уточняются. Ранее, в 2011 году, Runa Capital инвестировала в Ecwid 1,5 миллиона долларов.\"\\n'"
      ]
     },
     "execution_count": 22,
     "metadata": {},
     "output_type": "execute_result"
    }
   ],
   "source": [
    "lenta_ru[lenta_ru[\"topic\"] == 'Интернет и СМИ'][\"text\"].sample().to_csv(header=None, index=None)"
   ]
  },
  {
   "cell_type": "markdown",
   "metadata": {},
   "source": [
    "Еще можно данных можно взять здесь: https://natasha.github.io/corus/"
   ]
  },
  {
   "cell_type": "code",
   "execution_count": 23,
   "metadata": {},
   "outputs": [],
   "source": [
    "from ydata_profiling import ProfileReport"
   ]
  },
  {
   "cell_type": "code",
   "execution_count": 24,
   "metadata": {},
   "outputs": [],
   "source": [
    "needed_columns =list(lenta_ru.columns)\n",
    "needed_columns.remove('text')"
   ]
  },
  {
   "cell_type": "code",
   "execution_count": null,
   "metadata": {},
   "outputs": [],
   "source": [
    "profile = ProfileReport(lenta_ru[needed_columns], title=\"Pandas Profiling Report\")\n",
    "\n",
    "profile"
   ]
  },
  {
   "cell_type": "code",
   "execution_count": 3,
   "metadata": {},
   "outputs": [],
   "source": [
    "dataset = pd.read_csv(\"../final_dataset.csv\")"
   ]
  },
  {
   "cell_type": "code",
   "execution_count": 8,
   "metadata": {},
   "outputs": [
    {
     "data": {
      "text/html": [
       "<div>\n",
       "<style scoped>\n",
       "    .dataframe tbody tr th:only-of-type {\n",
       "        vertical-align: middle;\n",
       "    }\n",
       "\n",
       "    .dataframe tbody tr th {\n",
       "        vertical-align: top;\n",
       "    }\n",
       "\n",
       "    .dataframe thead th {\n",
       "        text-align: right;\n",
       "    }\n",
       "</style>\n",
       "<table border=\"1\" class=\"dataframe\">\n",
       "  <thead>\n",
       "    <tr style=\"text-align: right;\">\n",
       "      <th></th>\n",
       "      <th>title</th>\n",
       "      <th>text</th>\n",
       "      <th>label</th>\n",
       "      <th>url</th>\n",
       "    </tr>\n",
       "  </thead>\n",
       "  <tbody>\n",
       "    <tr>\n",
       "      <th>3634</th>\n",
       "      <td>Элитное жилье Петербурга впервые подорожало си...</td>\n",
       "      <td>За год (с июня 2012 по июнь 2013 года) средняя...</td>\n",
       "      <td>0</td>\n",
       "      <td>https://lenta.ru/news/2013/07/31/elitespb/</td>\n",
       "    </tr>\n",
       "    <tr>\n",
       "      <th>3635</th>\n",
       "      <td>За три квартала в Москве открыли шесть отелей</td>\n",
       "      <td>За три квартала в Москве открылись шесть отеле...</td>\n",
       "      <td>0</td>\n",
       "      <td>https://lenta.ru/news/2010/10/26/hotels/</td>\n",
       "    </tr>\n",
       "    <tr>\n",
       "      <th>3636</th>\n",
       "      <td>Подмосковью предрекли дефицит жилья</td>\n",
       "      <td>В пятилетней перспективе России грозит общий д...</td>\n",
       "      <td>0</td>\n",
       "      <td>https://lenta.ru/news/2018/07/31/shortage/</td>\n",
       "    </tr>\n",
       "    <tr>\n",
       "      <th>3637</th>\n",
       "      <td>Треть населения России нашли в 17 городах</td>\n",
       "      <td>На сегодняшний день в 17 крупнейших городских ...</td>\n",
       "      <td>0</td>\n",
       "      <td>https://lenta.ru/news/2018/03/29/citypopulation/</td>\n",
       "    </tr>\n",
       "    <tr>\n",
       "      <th>3638</th>\n",
       "      <td>Россияне стали  больше инвестировать в студенч...</td>\n",
       "      <td>Доля россиян, инвестирующих в студенческие апа...</td>\n",
       "      <td>0</td>\n",
       "      <td>https://lenta.ru/news/2016/01/12/campus/</td>\n",
       "    </tr>\n",
       "    <tr>\n",
       "      <th>...</th>\n",
       "      <td>...</td>\n",
       "      <td>...</td>\n",
       "      <td>...</td>\n",
       "      <td>...</td>\n",
       "    </tr>\n",
       "    <tr>\n",
       "      <th>9629</th>\n",
       "      <td>За военными ударами по Палестине следуют эконо...</td>\n",
       "      <td>Премьер-министр Израиля объявил о введении эко...</td>\n",
       "      <td>0</td>\n",
       "      <td>https://lenta.ru/news/2000/11/16/frozen/</td>\n",
       "    </tr>\n",
       "    <tr>\n",
       "      <th>9630</th>\n",
       "      <td>В Москве пройдет первая арт-ярмарка Cosmoscow</td>\n",
       "      <td>В Москве состоится первая арт-ярмарка Cosmosco...</td>\n",
       "      <td>0</td>\n",
       "      <td>https://lenta.ru/news/2010/12/14/cosmoscow/</td>\n",
       "    </tr>\n",
       "    <tr>\n",
       "      <th>9631</th>\n",
       "      <td>Березовский пообещал оплатить адвокатов Луговому</td>\n",
       "      <td>Предприниматель Борис Березовский предложил оп...</td>\n",
       "      <td>0</td>\n",
       "      <td>https://lenta.ru/news/2007/02/25/challenge/</td>\n",
       "    </tr>\n",
       "    <tr>\n",
       "      <th>9632</th>\n",
       "      <td>\"Катрина\" вскрыла стратегический запас америка...</td>\n",
       "      <td>Белый дом одобрил предложение по использованию...</td>\n",
       "      <td>0</td>\n",
       "      <td>https://lenta.ru/news/2005/08/31/tapoil/</td>\n",
       "    </tr>\n",
       "    <tr>\n",
       "      <th>9633</th>\n",
       "      <td>У китайских компаний обнаружили крупные долги</td>\n",
       "      <td>Долги китайских компаний по итогам третьего кв...</td>\n",
       "      <td>0</td>\n",
       "      <td>https://lenta.ru/news/2012/10/31/debt/</td>\n",
       "    </tr>\n",
       "  </tbody>\n",
       "</table>\n",
       "<p>6000 rows × 4 columns</p>\n",
       "</div>"
      ],
      "text/plain": [
       "                                                  title  \\\n",
       "3634  Элитное жилье Петербурга впервые подорожало си...   \n",
       "3635     За три квартала в Москве открыли шесть отелей    \n",
       "3636                Подмосковью предрекли дефицит жилья   \n",
       "3637          Треть населения России нашли в 17 городах   \n",
       "3638  Россияне стали  больше инвестировать в студенч...   \n",
       "...                                                 ...   \n",
       "9629  За военными ударами по Палестине следуют эконо...   \n",
       "9630      В Москве пройдет первая арт-ярмарка Cosmoscow   \n",
       "9631   Березовский пообещал оплатить адвокатов Луговому   \n",
       "9632  \"Катрина\" вскрыла стратегический запас америка...   \n",
       "9633      У китайских компаний обнаружили крупные долги   \n",
       "\n",
       "                                                   text  label  \\\n",
       "3634  За год (с июня 2012 по июнь 2013 года) средняя...      0   \n",
       "3635  За три квартала в Москве открылись шесть отеле...      0   \n",
       "3636  В пятилетней перспективе России грозит общий д...      0   \n",
       "3637  На сегодняшний день в 17 крупнейших городских ...      0   \n",
       "3638  Доля россиян, инвестирующих в студенческие апа...      0   \n",
       "...                                                 ...    ...   \n",
       "9629  Премьер-министр Израиля объявил о введении эко...      0   \n",
       "9630  В Москве состоится первая арт-ярмарка Cosmosco...      0   \n",
       "9631  Предприниматель Борис Березовский предложил оп...      0   \n",
       "9632  Белый дом одобрил предложение по использованию...      0   \n",
       "9633  Долги китайских компаний по итогам третьего кв...      0   \n",
       "\n",
       "                                                   url  \n",
       "3634        https://lenta.ru/news/2013/07/31/elitespb/  \n",
       "3635          https://lenta.ru/news/2010/10/26/hotels/  \n",
       "3636        https://lenta.ru/news/2018/07/31/shortage/  \n",
       "3637  https://lenta.ru/news/2018/03/29/citypopulation/  \n",
       "3638          https://lenta.ru/news/2016/01/12/campus/  \n",
       "...                                                ...  \n",
       "9629          https://lenta.ru/news/2000/11/16/frozen/  \n",
       "9630       https://lenta.ru/news/2010/12/14/cosmoscow/  \n",
       "9631       https://lenta.ru/news/2007/02/25/challenge/  \n",
       "9632          https://lenta.ru/news/2005/08/31/tapoil/  \n",
       "9633            https://lenta.ru/news/2012/10/31/debt/  \n",
       "\n",
       "[6000 rows x 4 columns]"
      ]
     },
     "execution_count": 8,
     "metadata": {},
     "output_type": "execute_result"
    }
   ],
   "source": [
    "dataset[dataset[\"label\"] == 0]"
   ]
  },
  {
   "cell_type": "code",
   "execution_count": null,
   "metadata": {},
   "outputs": [],
   "source": []
  }
 ],
 "metadata": {
  "kernelspec": {
   "display_name": "Python 3",
   "language": "python",
   "name": "python3"
  },
  "language_info": {
   "codemirror_mode": {
    "name": "ipython",
    "version": 3
   },
   "file_extension": ".py",
   "mimetype": "text/x-python",
   "name": "python",
   "nbconvert_exporter": "python",
   "pygments_lexer": "ipython3",
   "version": "3.11.5"
  }
 },
 "nbformat": 4,
 "nbformat_minor": 2
}
